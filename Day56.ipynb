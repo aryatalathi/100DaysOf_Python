{
 "cells": [
  {
   "cell_type": "markdown",
   "metadata": {},
   "source": [
    "### Implemenet stack operations"
   ]
  },
  {
   "cell_type": "code",
   "execution_count": 1,
   "metadata": {},
   "outputs": [
    {
     "name": "stdout",
     "output_type": "stream",
     "text": [
      "push <value>\n",
      "pop\n",
      "quit\n",
      "What action would you like to perform ? push 4\n",
      "push <value>\n",
      "pop\n",
      "quit\n",
      "What action would you like to perform ? push 8\n",
      "push <value>\n",
      "pop\n",
      "quit\n",
      "What action would you like to perform ? push 9\n",
      "push <value>\n",
      "pop\n",
      "quit\n",
      "What action would you like to perform ? push 3\n",
      "push <value>\n",
      "pop\n",
      "quit\n",
      "What action would you like to perform ? pop\n",
      "The deleted value is :  3\n",
      "push <value>\n",
      "pop\n",
      "quit\n",
      "What action would you like to perform ? quit\n"
     ]
    }
   ],
   "source": [
    "class Node:\n",
    "   def __init__(self, data):\n",
    "      self.data = data\n",
    "      self.next = None\n",
    "\n",
    "class Stack_structure:\n",
    "   def __init__(self):\n",
    "      self.head = None\n",
    "\n",
    "   def push_val(self, data):\n",
    "      if self.head is None:\n",
    "         self.head = Node(data)\n",
    "      else:\n",
    "         newNode = Node(data)\n",
    "         newNode.next = self.head\n",
    "         self.head = newNode\n",
    "\n",
    "   def pop_val(self):\n",
    "      if self.head is None:\n",
    "         return None\n",
    "      else:\n",
    "         del_Val = self.head.data\n",
    "         self.head = self.head.next\n",
    "         return del_Val\n",
    "\n",
    "my_instance = Stack_structure()\n",
    "while True:\n",
    "   print('push <value>')\n",
    "   print('pop')\n",
    "   print('quit')\n",
    "   my_input = input('What action would you like to perform ? ').split()\n",
    "\n",
    "   operation = my_input[0].strip().lower()\n",
    "   if operation == 'push':\n",
    "      my_instance.push_val(int(my_input[1]))\n",
    "   elif operation == 'pop':\n",
    "      del_Val = my_instance.pop_val()\n",
    "      if del_Val is None:\n",
    "         print('The stack is empty.')\n",
    "      else:\n",
    "         print('The deleted value is : ', int(del_Val))\n",
    "   elif operation == 'quit':\n",
    "      break"
   ]
  }
 ],
 "metadata": {
  "kernelspec": {
   "display_name": "Python 3",
   "language": "python",
   "name": "python3"
  },
  "language_info": {
   "codemirror_mode": {
    "name": "ipython",
    "version": 3
   },
   "file_extension": ".py",
   "mimetype": "text/x-python",
   "name": "python",
   "nbconvert_exporter": "python",
   "pygments_lexer": "ipython3",
   "version": "3.6.10"
  }
 },
 "nbformat": 4,
 "nbformat_minor": 4
}
