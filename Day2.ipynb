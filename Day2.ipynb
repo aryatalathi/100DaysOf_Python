{
 "cells": [
  {
   "cell_type": "code",
   "execution_count": 1,
   "metadata": {},
   "outputs": [
    {
     "name": "stdout",
     "output_type": "stream",
     "text": [
      "1\n",
      "1236006\n",
      "1\n"
     ]
    }
   ],
   "source": [
    "class Solution:\n",
    "    def balancedNumber(self, N):\n",
    "        res=0\n",
    "        middle=len(N)//2\n",
    "        for i in range(len(N)):\n",
    "            if i<middle:\n",
    "                res+=int(N[i])\n",
    "            if i>middle:\n",
    "                res-=int(N[i])\n",
    "        if res:\n",
    "            return 0\n",
    "        return 1\n",
    "\n",
    "if __name__ == \"__main__\":\n",
    "    t = int (input ())\n",
    "    for tc in range (t):\n",
    "        N = input ()\n",
    "        ob = Solution()\n",
    "        if ob.balancedNumber(N):\n",
    "            print (1)\n",
    "        else:\n",
    "            print (0) "
   ]
  }
 ],
 "metadata": {
  "kernelspec": {
   "display_name": "Python 3",
   "language": "python",
   "name": "python3"
  },
  "language_info": {
   "codemirror_mode": {
    "name": "ipython",
    "version": 3
   },
   "file_extension": ".py",
   "mimetype": "text/x-python",
   "name": "python",
   "nbconvert_exporter": "python",
   "pygments_lexer": "ipython3",
   "version": "3.6.10"
  }
 },
 "nbformat": 4,
 "nbformat_minor": 4
}
