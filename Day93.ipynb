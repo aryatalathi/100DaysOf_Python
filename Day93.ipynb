{
 "cells": [
  {
   "cell_type": "markdown",
   "metadata": {},
   "source": [
    "### Given two strings S and T of length n and m respectively. find count of distinct occurrences of T in S as a sub-sequence. "
   ]
  },
  {
   "cell_type": "code",
   "execution_count": 1,
   "metadata": {},
   "outputs": [
    {
     "name": "stdout",
     "output_type": "stream",
     "text": [
      "1\n",
      "banana ban\n",
      "3\n"
     ]
    }
   ],
   "source": [
    "def sequenceCount(arr1, arr2):\n",
    "    m, n = len(arr1), len(arr2)\n",
    "        \n",
    "    if n > m:\n",
    "        return 0\n",
    "        \n",
    "    dp = [[0] * (m + 1) for _ in range(n+1)]\n",
    "    for i in range(m+1):\n",
    "        dp[0][i] = 1\n",
    "    \n",
    "    for i in range(1, n+1):\n",
    "        for j in range(1, m+1):\n",
    "            if arr1[j-1] != arr2[i-1]:\n",
    "                dp[i][j] = dp[i][j-1]\n",
    "            else:\n",
    "                dp[i][j] = dp[i][j-1] + dp[i-1][j-1]\n",
    "    \n",
    "    return dp[n][m]\n",
    "\n",
    "if __name__=='__main__':\n",
    "    t = int(input())\n",
    "    for i in range(t):\n",
    "        arr = input().strip().split()\n",
    "        print(sequenceCount(str(arr[0]), str(arr[1])))"
   ]
  }
 ],
 "metadata": {
  "kernelspec": {
   "display_name": "Python 3",
   "language": "python",
   "name": "python3"
  },
  "language_info": {
   "codemirror_mode": {
    "name": "ipython",
    "version": 3
   },
   "file_extension": ".py",
   "mimetype": "text/x-python",
   "name": "python",
   "nbconvert_exporter": "python",
   "pygments_lexer": "ipython3",
   "version": "3.6.10"
  }
 },
 "nbformat": 4,
 "nbformat_minor": 4
}
