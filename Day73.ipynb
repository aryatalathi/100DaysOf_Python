{
 "cells": [
  {
   "cell_type": "markdown",
   "metadata": {},
   "source": [
    "### Implement a Queue using an Array. Queries in the Queue are of the following type:\n",
    "#### (i) 1 x   (a query of this type means  pushing 'x' into the queue)\n",
    "#### (ii) 2     (a query of this type means to pop element from queue and print the poped element)"
   ]
  },
  {
   "cell_type": "code",
   "execution_count": 1,
   "metadata": {},
   "outputs": [
    {
     "name": "stdout",
     "output_type": "stream",
     "text": [
      "1\n",
      "5\n",
      "1 2 1 3 2 1 4 2\n",
      "2 3 \n"
     ]
    }
   ],
   "source": [
    "class MyQueue:\n",
    "    def __init__ (self):\n",
    "        self.arr = []\n",
    "        self.maxsize = 100000\n",
    "        self.front = 0\n",
    "        self.end = 0\n",
    "        \n",
    "    def push(self, x):\n",
    "        self.arr.append(x)\n",
    "        self.end += 1\n",
    "        return\n",
    "    def pop(self):\n",
    "        if(self.size()<=0):\n",
    "            self.reset()\n",
    "            return -1\n",
    "        else:\n",
    "            x=self.arr[self.front]\n",
    "            self.front += 1\n",
    "            return x\n",
    "    def size (self):\n",
    "        return self.end - self.front\n",
    "    def reset (self):\n",
    "        self.end = 0\n",
    "        self.front = 0\n",
    "        self.arr = []\n",
    "        return\n",
    "\n",
    "if __name__=='__main__':\n",
    "    t=int(input())\n",
    "    for i in range(t):\n",
    "        s=MyQueue()\n",
    "        q=int(input())\n",
    "        q1=list(map(int,input().split()))\n",
    "        i=0\n",
    "        while(i<len(q1)):\n",
    "            if(q1[i]==1):\n",
    "                s.push(q1[i+1])\n",
    "                i=i+2\n",
    "            elif(q1[i]==2):\n",
    "                print(s.pop(),end=\" \")\n",
    "                i=i+1\n",
    "            elif(s.isEmpty()):\n",
    "                print(-1)\n",
    "                i=i+1\n",
    "        print()   "
   ]
  }
 ],
 "metadata": {
  "kernelspec": {
   "display_name": "Python 3",
   "language": "python",
   "name": "python3"
  },
  "language_info": {
   "codemirror_mode": {
    "name": "ipython",
    "version": 3
   },
   "file_extension": ".py",
   "mimetype": "text/x-python",
   "name": "python",
   "nbconvert_exporter": "python",
   "pygments_lexer": "ipython3",
   "version": "3.6.10"
  }
 },
 "nbformat": 4,
 "nbformat_minor": 4
}
