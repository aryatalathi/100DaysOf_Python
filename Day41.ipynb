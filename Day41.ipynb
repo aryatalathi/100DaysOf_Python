{
 "cells": [
  {
   "cell_type": "markdown",
   "metadata": {},
   "source": [
    "### Given a singly linked list and a key, count the number of occurrences of given key in the linked list."
   ]
  },
  {
   "cell_type": "code",
   "execution_count": 1,
   "metadata": {},
   "outputs": [
    {
     "name": "stdout",
     "output_type": "stream",
     "text": [
      "2\n",
      "7\n",
      "1 2 1 1 2 1 1\n",
      "1\n",
      "5\n",
      "5\n",
      "1 2 3 2 1\n",
      "6\n",
      "0\n"
     ]
    }
   ],
   "source": [
    "class Node:\n",
    "    def __init__(self, data):\n",
    "        self.data = data\n",
    "        self.next = None\n",
    "  \n",
    "class Solution:\n",
    "    def count(self, head, search_for):\n",
    "        count = 0\n",
    "        temp = head\n",
    "        while(temp):\n",
    "            if(temp.data == search_for):\n",
    "                count += 1;\n",
    "            temp = temp.next\n",
    "        return count\n",
    "        \n",
    "class Node:\n",
    "    def __init__(self, data):\n",
    "        self.data = data\n",
    "        self.next = None\n",
    "\n",
    "\n",
    "class LinkedList:\n",
    "    def __init__(self):\n",
    "        self.head = None\n",
    "\n",
    "    def push(self, new_data):\n",
    "        new_node = Node(new_data)\n",
    "        new_node.next = self.head\n",
    "        self.head = new_node\n",
    "\n",
    "    def printList(self):\n",
    "        temp = self.head\n",
    "        while (temp):\n",
    "            print(temp.data, end=\" \")\n",
    "            # arr.append(str(temp.data))\n",
    "            temp = temp.next\n",
    "        print()\n",
    "\n",
    "\n",
    "if __name__ == '__main__':\n",
    "    t = int(input())\n",
    "    while (t > 0):\n",
    "        llist = LinkedList()\n",
    "        n = int(input())\n",
    "        values = list(map(int, input().split()))\n",
    "        for i in reversed(values):\n",
    "            llist.push(i)\n",
    "        m = int(input())\n",
    "        k = Solution().count(llist.head, m)\n",
    "        print(k)\n",
    "        t -= 1"
   ]
  }
 ],
 "metadata": {
  "kernelspec": {
   "display_name": "Python 3",
   "language": "python",
   "name": "python3"
  },
  "language_info": {
   "codemirror_mode": {
    "name": "ipython",
    "version": 3
   },
   "file_extension": ".py",
   "mimetype": "text/x-python",
   "name": "python",
   "nbconvert_exporter": "python",
   "pygments_lexer": "ipython3",
   "version": "3.6.10"
  }
 },
 "nbformat": 4,
 "nbformat_minor": 4
}
