{
 "cells": [
  {
   "cell_type": "markdown",
   "metadata": {},
   "source": [
    "### A number N is represented in Linked List such that each digit corresponds to a node in linked list. You need to add 1 to it."
   ]
  },
  {
   "cell_type": "code",
   "execution_count": 1,
   "metadata": {},
   "outputs": [
    {
     "name": "stdout",
     "output_type": "stream",
     "text": [
      "3\n",
      "456\n",
      "457\n",
      "98679999999999999\n",
      "98680000000000000\n",
      "123456\n",
      "123457\n"
     ]
    }
   ],
   "source": [
    "class Solution:\n",
    "    def addOne(self,head):\n",
    "        #Returns new head of linked List.\n",
    "        temp = head\n",
    "        lst=[]\n",
    "        while temp:\n",
    "            lst.append(str(temp.data))\n",
    "            temp = temp.next\n",
    "        \n",
    "        head.data = int(''.join(lst)) +1\n",
    "        head.next = None\n",
    "        return head\n",
    "\n",
    "# Node Class\n",
    "class Node:\n",
    "    def __init__(self, data):   # data -> value stored in node\n",
    "        self.data = data\n",
    "        self.next = None\n",
    "\n",
    "# Linked List Class\n",
    "class LinkedList:\n",
    "    def __init__(self):\n",
    "        self.head = None\n",
    "        self.tail = None\n",
    "\n",
    "    # creates a new node with given value and appends it at the end of the linked list\n",
    "    def insert(self, value):\n",
    "        if self.head is None:\n",
    "            self.head = Node(value)\n",
    "            self.tail = self.head\n",
    "        else:\n",
    "            self.tail.next = Node(value)\n",
    "            self.tail = self.tail.next\n",
    "\n",
    "def PrintList(head):\n",
    "    while head:\n",
    "        print(head.data,end='')\n",
    "        head = head.next\n",
    "\n",
    "if __name__ == '__main__':\n",
    "    t=int(input())\n",
    "    for _ in range(t):\n",
    "        \n",
    "        num = input()\n",
    "        ll = LinkedList() # create a new linked list 'll1'.\n",
    "        for digit in num:\n",
    "            ll.insert(int(digit))  # add to the end of the list\n",
    "        \n",
    "        resHead = Solution().addOne(ll.head)\n",
    "        PrintList(resHead)\n",
    "        print()"
   ]
  }
 ],
 "metadata": {
  "kernelspec": {
   "display_name": "Python 3",
   "language": "python",
   "name": "python3"
  },
  "language_info": {
   "codemirror_mode": {
    "name": "ipython",
    "version": 3
   },
   "file_extension": ".py",
   "mimetype": "text/x-python",
   "name": "python",
   "nbconvert_exporter": "python",
   "pygments_lexer": "ipython3",
   "version": "3.6.10"
  }
 },
 "nbformat": 4,
 "nbformat_minor": 4
}
