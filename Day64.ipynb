{
 "cells": [
  {
   "cell_type": "markdown",
   "metadata": {},
   "source": [
    "### Given string S representing a postfix expression, the task is to evaluate the expression and find the final value. Operators will only include the basic arithmetic operators like *, /, + and -"
   ]
  },
  {
   "cell_type": "code",
   "execution_count": 1,
   "metadata": {},
   "outputs": [
    {
     "name": "stdout",
     "output_type": "stream",
     "text": [
      "2\n",
      "123+*8-\n",
      "-3\n",
      "231*+9-\n",
      "-4\n"
     ]
    }
   ],
   "source": [
    "class Solution:\n",
    "    def EvaluatePostfix(self, S):\n",
    "        stack = []\n",
    "        for i in exp:\n",
    "            if i in \"+*-/\":\n",
    "                a = int(stack.pop())\n",
    "                b = int(stack.pop())\n",
    "            if i == '+':\n",
    "                stack.append(a + b)\n",
    "            elif i == '-':\n",
    "                stack.append(b - a)\n",
    "            elif i == '*':\n",
    "                stack.append(a * b)\n",
    "            elif i == '/':\n",
    "                stack.append(int(b / a))\n",
    "            else:\n",
    "                stack.append(int(i))\n",
    "        return stack[0]\n",
    "\n",
    "import atexit\n",
    "import io\n",
    "import sys\n",
    "    \n",
    "if __name__ == '__main__':\n",
    "    test_cases = int(input())\n",
    "    for cases in range(test_cases) :\n",
    "        exp = str(input())\n",
    "        obj = Solution()\n",
    "        print('{0:g}'.format(float(obj.EvaluatePostfix(exp))))"
   ]
  }
 ],
 "metadata": {
  "kernelspec": {
   "display_name": "Python 3",
   "language": "python",
   "name": "python3"
  },
  "language_info": {
   "codemirror_mode": {
    "name": "ipython",
    "version": 3
   },
   "file_extension": ".py",
   "mimetype": "text/x-python",
   "name": "python",
   "nbconvert_exporter": "python",
   "pygments_lexer": "ipython3",
   "version": "3.6.10"
  }
 },
 "nbformat": 4,
 "nbformat_minor": 4
}
