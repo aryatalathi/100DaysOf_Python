{
 "cells": [
  {
   "cell_type": "markdown",
   "metadata": {},
   "source": [
    "###  Given an array Arr of size N, each element of the array represents the amount of calories, the task is to calculate the maximum of amount of calories you can get remembering the fact that you cannot take three consecutive calories."
   ]
  },
  {
   "cell_type": "code",
   "execution_count": 1,
   "metadata": {},
   "outputs": [
    {
     "name": "stdout",
     "output_type": "stream",
     "text": [
      "1\n",
      "5\n",
      "3 2 1 10 3\n",
      "18\n"
     ]
    }
   ],
   "source": [
    "class Solution:\n",
    "    def maxCalories(self, Arr, n):\n",
    "        sum = [0 for k in range(n)]\n",
    "        if n >= 1 :\n",
    "            sum[0] = Arr[0]\n",
    "         \n",
    "        if n >= 2 :\n",
    "            sum[1] = Arr[0] + Arr[1]\n",
    "         \n",
    "        if n > 2 :\n",
    "            sum[2] = max(sum[1], max(Arr[1] + Arr[2], Arr[0] + Arr[2]))\n",
    "    \n",
    "        for i in range(3, n):\n",
    "            sum[i] = max(max(sum[i-1], sum[i-2] + Arr[i]), Arr[i] + Arr[i-1] + sum[i-3])\n",
    "     \n",
    "        return sum[n-1]\n",
    "\n",
    "if __name__ == '__main__':\n",
    "    T=int(input())\n",
    "    for i in range(T):\n",
    "        n = int(input())\n",
    "        Arr = [int(x) for x in input().split()]\n",
    "        ob = Solution()\n",
    "        ans = ob.maxCalories(Arr,n)\n",
    "        print(ans)"
   ]
  }
 ],
 "metadata": {
  "kernelspec": {
   "display_name": "Python 3",
   "language": "python",
   "name": "python3"
  },
  "language_info": {
   "codemirror_mode": {
    "name": "ipython",
    "version": 3
   },
   "file_extension": ".py",
   "mimetype": "text/x-python",
   "name": "python",
   "nbconvert_exporter": "python",
   "pygments_lexer": "ipython3",
   "version": "3.6.10"
  }
 },
 "nbformat": 4,
 "nbformat_minor": 4
}
