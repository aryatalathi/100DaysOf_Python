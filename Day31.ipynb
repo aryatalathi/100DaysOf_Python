{
 "cells": [
  {
   "cell_type": "markdown",
   "metadata": {},
   "source": [
    "### Searching an element in a sorted array (Ternary Search)\n",
    "#### Given a sorted array of size N and an integer K. Check if K is present in the array or not using ternary search.\n",
    "##### Ternary Search - It is a divide and conquer algorithm that can be used to find an element in an array. It is similar to binary search where we divide the array into two parts but in this algorithm, we divide the given array into three parts and determine which has the key (searched element)."
   ]
  },
  {
   "cell_type": "code",
   "execution_count": 1,
   "metadata": {},
   "outputs": [
    {
     "name": "stdout",
     "output_type": "stream",
     "text": [
      "2\n",
      "5 6\n",
      "1 2 3 4 6\n",
      "1\n",
      "5 3\n",
      "1 3 4 5 6 \n",
      "1\n"
     ]
    }
   ],
   "source": [
    "class Solution:\n",
    "    def ternarySearch(self,arr,N,K):\n",
    "        l = 0\n",
    "        r = N-1\n",
    "        while(r>=l):\n",
    "            mid1 = l + (r-l)//3\n",
    "            mid2 = r - (r-l)//3\n",
    "           \n",
    "            if(arr[mid1]==K or arr[mid2]==K):\n",
    "                return 1\n",
    "            if(K<arr[mid1]):\n",
    "                r = mid1 - 1\n",
    "            elif(K>arr[mid2]):\n",
    "                l = mid2 + 1\n",
    "            else:\n",
    "                l = mid1 + 1\n",
    "                r = mid2 - 1\n",
    "        return -1\n",
    "\n",
    "import math\n",
    "if __name__ == '__main__': \n",
    "    t = int(input())\n",
    "    for _ in range(t):\n",
    "        NK = input().strip().split()\n",
    "        N = int(NK[0])\n",
    "        K = int(NK[1])\n",
    "        arr = [ int(x) for x in input().strip().split() ]\n",
    "        ob=Solution()\n",
    "        print(ob.ternarySearch(arr,N,K))"
   ]
  }
 ],
 "metadata": {
  "kernelspec": {
   "display_name": "Python 3",
   "language": "python",
   "name": "python3"
  },
  "language_info": {
   "codemirror_mode": {
    "name": "ipython",
    "version": 3
   },
   "file_extension": ".py",
   "mimetype": "text/x-python",
   "name": "python",
   "nbconvert_exporter": "python",
   "pygments_lexer": "ipython3",
   "version": "3.6.10"
  }
 },
 "nbformat": 4,
 "nbformat_minor": 4
}
