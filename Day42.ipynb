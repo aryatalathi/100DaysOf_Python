{
 "cells": [
  {
   "cell_type": "markdown",
   "metadata": {},
   "source": [
    "### Given a linked list of size N, your task is to complete the function isLengthEvenOrOdd() which contains head of the linked list and check whether the length of linked list is even or odd."
   ]
  },
  {
   "cell_type": "code",
   "execution_count": 1,
   "metadata": {},
   "outputs": [
    {
     "name": "stdout",
     "output_type": "stream",
     "text": [
      "2\n",
      "3\n",
      "9 4 3\n",
      "Odd\n",
      "6\n",
      "12 10 52 34 82 66\n",
      "Even\n"
     ]
    }
   ],
   "source": [
    "def isLengthEvenOrOdd(head):\n",
    "    # Code here\n",
    "    index = 1 \n",
    "    temp_node = head\n",
    "    while(temp_node.next):\n",
    "        index += 1\n",
    "        temp_node = temp_node.next\n",
    "    if index%2 == 0:\n",
    "        return 1\n",
    "    else:\n",
    "        return 0\n",
    "    \n",
    "class node:\n",
    "    def __init__(self, val):\n",
    "        self.data = val\n",
    "        self.next = None\n",
    "        \n",
    "# Linked List Class\n",
    "class Linked_List:\n",
    "    def __init__(self):\n",
    "        self.head = None\n",
    "\n",
    "    def insert(self, val):\n",
    "        if self.head == None:\n",
    "            self.head = node(val)\n",
    "        else:\n",
    "            new_node = node(val)\n",
    "            temp = self.head\n",
    "            while(temp.next):\n",
    "                temp=temp.next\n",
    "            temp.next = new_node\n",
    "\n",
    "def createList(arr, n):\n",
    "    lis = Linked_List()\n",
    "    for i in range(n):\n",
    "        lis.insert(arr[i])\n",
    "    return lis.head\n",
    "\n",
    "if __name__=='__main__':\n",
    "    t = int(input())\n",
    "    for i in range(t):\n",
    "        n = int(input())\n",
    "        arr = list(map(int, input().strip().split()))\n",
    "        head = createList(arr, n)\n",
    "        if(isLengthEvenOrOdd(head)):\n",
    "            print('Even')\n",
    "        else:\n",
    "            print('Odd')"
   ]
  }
 ],
 "metadata": {
  "kernelspec": {
   "display_name": "Python 3",
   "language": "python",
   "name": "python3"
  },
  "language_info": {
   "codemirror_mode": {
    "name": "ipython",
    "version": 3
   },
   "file_extension": ".py",
   "mimetype": "text/x-python",
   "name": "python",
   "nbconvert_exporter": "python",
   "pygments_lexer": "ipython3",
   "version": "3.6.10"
  }
 },
 "nbformat": 4,
 "nbformat_minor": 4
}
