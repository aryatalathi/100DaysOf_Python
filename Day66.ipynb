{
 "cells": [
  {
   "cell_type": "markdown",
   "metadata": {},
   "source": [
    "### Given a stack with push(), pop(), empty() operations, delete the middle of the stack without using any additional data structure.\n",
    "#### Middle: ceil(size_of_stack/2.0)"
   ]
  },
  {
   "cell_type": "code",
   "execution_count": 1,
   "metadata": {},
   "outputs": [
    {
     "name": "stdout",
     "output_type": "stream",
     "text": [
      "2\n",
      "5\n",
      "1 2 3 4 5\n",
      "5 4 2 1 \n",
      "4\n",
      "23 45 78 12\n",
      "12 78 23 \n"
     ]
    }
   ],
   "source": [
    "def deleteMid(s, sizeOfStack, current):\n",
    "    if sizeOfStack%2 == 0:\n",
    "        a = (sizeOfStack//2) - 1\n",
    "        s.pop(a)\n",
    "    else:\n",
    "        a = (sizeOfStack//2)\n",
    "        s.pop(a)\n",
    "    #s.reverse()\n",
    "    return s\n",
    "\n",
    "def main():\n",
    "    testcases=int(input())\n",
    "    while(testcases>0):\n",
    "        \n",
    "        sizeOfStack=int(input())\n",
    "        \n",
    "        myStack=[int(x) for x in input().strip().split()]\n",
    "        \n",
    "        if(sizeOfStack==1):\n",
    "            print(myStack[0])\n",
    "        else:\n",
    "            modified=deleteMid(myStack,sizeOfStack,0)\n",
    "            \n",
    "            while(len(modified)>0):\n",
    "                print(modified[-1],end=\" \")\n",
    "                modified.pop()\n",
    "            print()\n",
    "        \n",
    "        testcases-=1\n",
    "\n",
    "\n",
    "if __name__==\"__main__\":\n",
    "    main()\n"
   ]
  }
 ],
 "metadata": {
  "kernelspec": {
   "display_name": "Python 3",
   "language": "python",
   "name": "python3"
  },
  "language_info": {
   "codemirror_mode": {
    "name": "ipython",
    "version": 3
   },
   "file_extension": ".py",
   "mimetype": "text/x-python",
   "name": "python",
   "nbconvert_exporter": "python",
   "pygments_lexer": "ipython3",
   "version": "3.6.10"
  }
 },
 "nbformat": 4,
 "nbformat_minor": 4
}
