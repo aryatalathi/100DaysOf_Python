{
 "cells": [
  {
   "cell_type": "markdown",
   "metadata": {},
   "source": [
    "### Given a doubly linked list of n elements. The task is to reverse the doubly linked list."
   ]
  },
  {
   "cell_type": "code",
   "execution_count": 1,
   "metadata": {},
   "outputs": [
    {
     "name": "stdout",
     "output_type": "stream",
     "text": [
      "2\n",
      "3\n",
      "5 6 7\n",
      "7 6 5 \n",
      "6\n",
      "12 34 56 78 23 45\n",
      "45 23 78 56 34 12 \n"
     ]
    }
   ],
   "source": [
    "def reverseDLL(head):\n",
    "    #return head after reversing\n",
    "    while(head):\n",
    "        temp = head.next\n",
    "        head.next = head.prev\n",
    "        head.prev = temp\n",
    "        \n",
    "        if(head.prev == None):\n",
    "            break\n",
    "        head = head.prev\n",
    "    return head\n",
    "\n",
    "class Node: \n",
    "    def __init__(self, data): \n",
    "        self.data = data  \n",
    "        self.next = None\n",
    "        self.prev = None\n",
    "  \n",
    "class DoublyLinkedList: \n",
    "    def __init__(self): \n",
    "        self.head = None\n",
    "   \n",
    "    def push(self, new_data,tail):\n",
    "        if not self.head:\n",
    "            self.head=Node(new_data)\n",
    "            return self.head\n",
    "        Nnode=Node(new_data)\n",
    "        Nnode.prev=tail\n",
    "        tail.next=Nnode\n",
    "        return Nnode\n",
    "        \n",
    "    def printList(self, node): \n",
    "        while(node is not None): \n",
    "            print (node.data,end=' ') \n",
    "            node = node.next\n",
    "            \n",
    "if __name__ == '__main__':\n",
    "    t=int(input())\n",
    "    \n",
    "    for tcs in range(t):\n",
    "        n=int(input())\n",
    "        arr=[int(x) for x in input().split()]\n",
    "        \n",
    "        \n",
    "        dll=DoublyLinkedList()\n",
    "        tail=None\n",
    "        \n",
    "        for e in arr:\n",
    "            tail=dll.push(e,tail)\n",
    "        \n",
    "        resHead=reverseDLL(dll.head)\n",
    "        dll.printList(resHead)\n",
    "        print()"
   ]
  }
 ],
 "metadata": {
  "kernelspec": {
   "display_name": "Python 3",
   "language": "python",
   "name": "python3"
  },
  "language_info": {
   "codemirror_mode": {
    "name": "ipython",
    "version": 3
   },
   "file_extension": ".py",
   "mimetype": "text/x-python",
   "name": "python",
   "nbconvert_exporter": "python",
   "pygments_lexer": "ipython3",
   "version": "3.6.10"
  }
 },
 "nbformat": 4,
 "nbformat_minor": 4
}
