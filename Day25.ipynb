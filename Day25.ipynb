{
 "cells": [
  {
   "cell_type": "markdown",
   "metadata": {},
   "source": [
    "### Case-specific Sorting of Strings\n",
    "#### Given a string S consisting of uppercase and lowercase characters. The task is to sort uppercase and lowercase letters separately such that if the ith place in the original string had an Uppercase character then it should not have a lowercase character after being sorted and vice versa."
   ]
  },
  {
   "cell_type": "code",
   "execution_count": 1,
   "metadata": {},
   "outputs": [
    {
     "name": "stdout",
     "output_type": "stream",
     "text": [
      "1\n",
      "12\n",
      "defRTSersUXI\n",
      "deeIRSfrsTUX\n"
     ]
    }
   ],
   "source": [
    "def caseSort(s,n):\n",
    "    upper = []\n",
    "    lower = []\n",
    "    ans = ''\n",
    "    for i in s:\n",
    "        if i.isupper():\n",
    "            upper.append(i)\n",
    "        else:\n",
    "            lower.append(i)\n",
    "    upper.sort(reverse = True)\n",
    "    lower.sort(reverse = True)\n",
    "    for i in range(len(s)):\n",
    "        if s[i].isupper():\n",
    "            ans+=upper.pop()\n",
    "        else:\n",
    "            ans+=lower.pop()\n",
    "    return ans\n",
    "\n",
    "if __name__ == '__main__':\n",
    "    t = int(input())\n",
    "    for _ in range(t):\n",
    "        n=int(input())\n",
    "        s=str(input())\n",
    "        print(caseSort(s,n))"
   ]
  }
 ],
 "metadata": {
  "kernelspec": {
   "display_name": "Python 3",
   "language": "python",
   "name": "python3"
  },
  "language_info": {
   "codemirror_mode": {
    "name": "ipython",
    "version": 3
   },
   "file_extension": ".py",
   "mimetype": "text/x-python",
   "name": "python",
   "nbconvert_exporter": "python",
   "pygments_lexer": "ipython3",
   "version": "3.6.10"
  }
 },
 "nbformat": 4,
 "nbformat_minor": 4
}
