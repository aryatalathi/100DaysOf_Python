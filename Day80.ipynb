{
 "cells": [
  {
   "cell_type": "code",
   "execution_count": null,
   "metadata": {},
   "outputs": [],
   "source": []
  },
  {
   "cell_type": "code",
   "execution_count": 1,
   "metadata": {},
   "outputs": [
    {
     "name": "stdout",
     "output_type": "stream",
     "text": [
      "1\n",
      "aebcbda\n",
      "2\n"
     ]
    }
   ],
   "source": [
    "class Solution:\n",
    "    \n",
    "    def minimumNumberOfDeletions(self,S):\n",
    "        s1 = S\n",
    "        s2 = \"\"\n",
    "        n = len(s1)+1\n",
    "        for i in range(n-2, -1, -1):\n",
    "            s2 += s1[i]\n",
    "        dp = [[0]*n for _ in range(n)]\n",
    "        for i in range(1, n):\n",
    "            for j in range(1, n):\n",
    "                if s1[i-1] == s2[j-1]:\n",
    "                    dp[i][j] = 1+dp[i-1][j-1]\n",
    "                else:\n",
    "                    dp[i][j] = max(dp[i-1][j], dp[i][j-1])\n",
    "        return len(S) - dp[-1][-1]\n",
    "\n",
    "if __name__ == '__main__': \n",
    "    t = int (input ())\n",
    "    for _ in range (t):\n",
    "        \n",
    "        S=input()\n",
    "\n",
    "        solObj = Solution()\n",
    "        print(solObj.minimumNumberOfDeletions(S))"
   ]
  }
 ],
 "metadata": {
  "kernelspec": {
   "display_name": "Python 3",
   "language": "python",
   "name": "python3"
  },
  "language_info": {
   "codemirror_mode": {
    "name": "ipython",
    "version": 3
   },
   "file_extension": ".py",
   "mimetype": "text/x-python",
   "name": "python",
   "nbconvert_exporter": "python",
   "pygments_lexer": "ipython3",
   "version": "3.6.10"
  }
 },
 "nbformat": 4,
 "nbformat_minor": 4
}
