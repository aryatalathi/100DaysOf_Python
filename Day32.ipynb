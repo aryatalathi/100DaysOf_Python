{
 "cells": [
  {
   "cell_type": "markdown",
   "metadata": {},
   "source": [
    "### Given an array A of positive integers. Your task is to find the leaders in the array. An element of array is leader if it is greater than or equal to all the elements to its right side. The rightmost element is always a leader. "
   ]
  },
  {
   "cell_type": "code",
   "execution_count": 6,
   "metadata": {},
   "outputs": [
    {
     "name": "stdout",
     "output_type": "stream",
     "text": [
      "2\n",
      "6\n",
      "17 16 4 3 5 6\n",
      "17 16 6 \n",
      "5\n",
      "1 2 3 4 0\n",
      "4 0 \n"
     ]
    }
   ],
   "source": [
    "import math\n",
    "\n",
    "def leaders(A, N):\n",
    "    x=[]\n",
    "    i=len(A)-2\n",
    "    maxi=A[N-1]\n",
    "    x.append(maxi)\n",
    "    while(i>=0):\n",
    "        if A[i]>maxi or A[i]==maxi:\n",
    "            maxi=A[i]\n",
    "            x.append(A[i])\n",
    "        i-=1\n",
    "    return x[::-1]\n",
    "\n",
    "\n",
    "def main():\n",
    "    \n",
    "    T=int(input())\n",
    "    \n",
    "    while(T>0):\n",
    "        \n",
    "        \n",
    "        N=int(input())\n",
    "        \n",
    "        A=[int(x) for x in input().strip().split()]\n",
    "        \n",
    "        A=leaders(A,N)\n",
    "        \n",
    "        for i in A:\n",
    "            print(i,end=\" \")\n",
    "        print()\n",
    "        \n",
    "        T-=1\n",
    "\n",
    "if __name__==\"__main__\":\n",
    "    main()"
   ]
  }
 ],
 "metadata": {
  "kernelspec": {
   "display_name": "Python 3",
   "language": "python",
   "name": "python3"
  },
  "language_info": {
   "codemirror_mode": {
    "name": "ipython",
    "version": 3
   },
   "file_extension": ".py",
   "mimetype": "text/x-python",
   "name": "python",
   "nbconvert_exporter": "python",
   "pygments_lexer": "ipython3",
   "version": "3.6.10"
  }
 },
 "nbformat": 4,
 "nbformat_minor": 4
}
