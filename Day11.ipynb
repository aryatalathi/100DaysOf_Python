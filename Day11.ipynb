{
 "cells": [
  {
   "cell_type": "markdown",
   "metadata": {},
   "source": [
    "### Given an array of size N, find the smallest positive integer value that cannot be represented as sum of some elements from the array."
   ]
  },
  {
   "cell_type": "code",
   "execution_count": 1,
   "metadata": {},
   "outputs": [
    {
     "name": "stdout",
     "output_type": "stream",
     "text": [
      "2\n",
      "4\n",
      "1 4 9 6\n",
      "2\n",
      "5\n",
      "2 3 4 5 6\n",
      "1\n"
     ]
    }
   ],
   "source": [
    "class Solution:\n",
    "    def smallestpositive(self, array, n): \n",
    "        # Your code goes here \n",
    "\n",
    "        res = 1\n",
    "        array.sort()\n",
    "        \n",
    "        for i in range(n):\n",
    "            if(array[i]<=res):\n",
    "                res += array[i]\n",
    "            else:\n",
    "                break\n",
    "        return res\n",
    "\n",
    "if __name__ == '__main__': \n",
    "    t = int(input())\n",
    "    for _ in range(t):\n",
    "        n = int(input())\n",
    "        array = list(map(int, input().strip().split()))\n",
    "        ob = Solution()\n",
    "        print(ob.smallestpositive(array,n))"
   ]
  }
 ],
 "metadata": {
  "kernelspec": {
   "display_name": "Python 3",
   "language": "python",
   "name": "python3"
  },
  "language_info": {
   "codemirror_mode": {
    "name": "ipython",
    "version": 3
   },
   "file_extension": ".py",
   "mimetype": "text/x-python",
   "name": "python",
   "nbconvert_exporter": "python",
   "pygments_lexer": "ipython3",
   "version": "3.6.10"
  }
 },
 "nbformat": 4,
 "nbformat_minor": 4
}
