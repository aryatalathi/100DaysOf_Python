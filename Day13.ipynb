{
 "cells": [
  {
   "cell_type": "markdown",
   "metadata": {},
   "source": [
    "### Ben and Jim are playing a Dice game alternatively (Ben starts the game). They both roll the dice alternatively and the one with the most number of Even Outcomes wins the game.\n",
    "### If both have the same number of even outcomes then Ben wins. Find out the winner."
   ]
  },
  {
   "cell_type": "code",
   "execution_count": 1,
   "metadata": {},
   "outputs": [
    {
     "name": "stdout",
     "output_type": "stream",
     "text": [
      "3 \n",
      "1\n",
      "3\n",
      "Ben\n",
      "3\n",
      "1 2 3\n",
      "Jim\n",
      "5\n",
      "6 4 5 3 2\n",
      "Ben\n"
     ]
    }
   ],
   "source": [
    "t = int(input())\n",
    "for _ in range(t):\n",
    "    n = int(input())\n",
    "    arr = list(map(int, input().split()))\n",
    "  \n",
    "    jim = []\n",
    "    ben = []\n",
    "    count_ben = 0\n",
    "    count_jim = 0\n",
    "  \n",
    "    for i in range(n):\n",
    "        if((i==0 or i%2==0)and(arr[i]%2==0)):\n",
    "            ben.append(arr[i])\n",
    "        elif((i%2==1 ) and(arr[i]%2==0)): \n",
    "            jim.append(arr[i])\n",
    "  \n",
    "    x = len(ben)\n",
    "    y = len(jim)\n",
    "  \n",
    "    if(x>=y):\n",
    "        print(\"Ben\")\n",
    "    else:\n",
    "        print(\"Jim\")"
   ]
  }
 ],
 "metadata": {
  "kernelspec": {
   "display_name": "Python 3",
   "language": "python",
   "name": "python3"
  },
  "language_info": {
   "codemirror_mode": {
    "name": "ipython",
    "version": 3
   },
   "file_extension": ".py",
   "mimetype": "text/x-python",
   "name": "python",
   "nbconvert_exporter": "python",
   "pygments_lexer": "ipython3",
   "version": "3.6.10"
  }
 },
 "nbformat": 4,
 "nbformat_minor": 4
}
