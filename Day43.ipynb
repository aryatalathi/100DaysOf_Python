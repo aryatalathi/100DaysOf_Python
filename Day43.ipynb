{
 "cells": [
  {
   "cell_type": "markdown",
   "metadata": {},
   "source": [
    "### Given a Singly Linked List of size N, delete all alternate nodes of the list."
   ]
  },
  {
   "cell_type": "code",
   "execution_count": 3,
   "metadata": {},
   "outputs": [
    {
     "name": "stdout",
     "output_type": "stream",
     "text": [
      "2\n",
      "6\n",
      "1 2 3 4 5 6\n",
      "1 3 5 \n",
      "8\n",
      "23 45 12 89 67 33 97 54\n",
      "23 12 67 97 \n"
     ]
    }
   ],
   "source": [
    "class Solution: \n",
    "    \n",
    "    \n",
    "    def deleteAlt(self, head):\n",
    "        flag = head\n",
    "        while flag is not None:\n",
    "            try:\n",
    "                flag.next = flag.next.next\n",
    "                flag = flag.next\n",
    "            except:\n",
    "                break\n",
    "            \n",
    "class Node: \n",
    "   \n",
    "    # Function to initialize the node object \n",
    "    def __init__(self, data): \n",
    "        self.data = data  # Assign data \n",
    "        self.next = None  # Initialize  \n",
    "                          # next as null \n",
    "\n",
    "if __name__=='__main__':\n",
    "    t = int(input())\n",
    "    for i in range(t):\n",
    "        \n",
    "        n = int(input())\n",
    "        arr = list(map(int, input().strip().split()))\n",
    "        #head = createList(arr, n)\n",
    "        head = Node(arr[0])\n",
    "        temp = head\n",
    "        for i in range(1,len(arr)):\n",
    "            temp.next = Node(arr[i])\n",
    "            temp = temp.next\n",
    "\n",
    "        \n",
    "        ob = Solution()\n",
    "        ob.deleteAlt(head)\n",
    "        \n",
    "        while head is not None:\n",
    "            print(head.data,end = \" \")\n",
    "            head = head.next\n",
    "        print()   "
   ]
  }
 ],
 "metadata": {
  "kernelspec": {
   "display_name": "Python 3",
   "language": "python",
   "name": "python3"
  },
  "language_info": {
   "codemirror_mode": {
    "name": "ipython",
    "version": 3
   },
   "file_extension": ".py",
   "mimetype": "text/x-python",
   "name": "python",
   "nbconvert_exporter": "python",
   "pygments_lexer": "ipython3",
   "version": "3.6.10"
  }
 },
 "nbformat": 4,
 "nbformat_minor": 4
}
