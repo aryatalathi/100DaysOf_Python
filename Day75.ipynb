{
 "cells": [
  {
   "cell_type": "markdown",
   "metadata": {},
   "source": [
    "### Implement a Queue using two stacks"
   ]
  },
  {
   "cell_type": "code",
   "execution_count": 1,
   "metadata": {},
   "outputs": [
    {
     "name": "stdout",
     "output_type": "stream",
     "text": [
      "1\n",
      "5\n",
      "1 2 1 3 2 1 4 2\n",
      "2 3 \n"
     ]
    }
   ],
   "source": [
    "class Queue:\n",
    "    def __init__(self):\n",
    "        self.s1 = []\n",
    "        self.s2 = []\n",
    "    def enqueue(self,X):\n",
    "        # code here\n",
    "        self.s1.append(X)\n",
    "        \n",
    "    def dequeue(self):\n",
    "        # code here\n",
    "        if len(self.s1) == 0 and len(self.s2) == 0:\n",
    "            return -1\n",
    "        \n",
    "        if len(self.s2) != 0:\n",
    "            return self.s2.pop()\n",
    "        \n",
    "        while len(self.s1) != 0:\n",
    "            e = self.s1.pop()\n",
    "            self.s2.append(e)\n",
    "        \n",
    "        return self.s2.pop()\n",
    "\n",
    "if __name__ == '__main__':\n",
    "    test_cases = int(input())\n",
    "    for cases in range(test_cases) :\n",
    "        ob=Queue()\n",
    "        n = int(input())\n",
    "        a = list(map(int,input().strip().split()))\n",
    "        i = 0\n",
    "        while i<len(a):\n",
    "            if a[i] == 1:\n",
    "                ob.enqueue(a[i+1])\n",
    "                i+=1\n",
    "            else:\n",
    "                print(ob.dequeue(),end=\" \")\n",
    "            i+=1\n",
    "\n",
    "        print()"
   ]
  }
 ],
 "metadata": {
  "kernelspec": {
   "display_name": "Python 3",
   "language": "python",
   "name": "python3"
  },
  "language_info": {
   "codemirror_mode": {
    "name": "ipython",
    "version": 3
   },
   "file_extension": ".py",
   "mimetype": "text/x-python",
   "name": "python",
   "nbconvert_exporter": "python",
   "pygments_lexer": "ipython3",
   "version": "3.6.10"
  }
 },
 "nbformat": 4,
 "nbformat_minor": 4
}
