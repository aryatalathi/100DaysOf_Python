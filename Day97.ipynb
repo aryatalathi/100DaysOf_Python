{
 "cells": [
  {
   "cell_type": "markdown",
   "metadata": {},
   "source": [
    "### A Lucas Number is a number which is represented by the following recurrence\n",
    "#### Ln = Ln-1 + Ln-2 for n>1\n",
    "#### L0 = 2\n",
    "#### L1 = 1\n",
    "\n",
    "### Given a number N, find the Nth lucas number."
   ]
  },
  {
   "cell_type": "code",
   "execution_count": 1,
   "metadata": {},
   "outputs": [
    {
     "name": "stdout",
     "output_type": "stream",
     "text": [
      "3\n",
      "5\n",
      "11\n",
      "7\n",
      "29\n",
      "2\n",
      "3\n"
     ]
    }
   ],
   "source": [
    "class Solution:\n",
    "    def lucas(self, n):\n",
    "        mod = 1000000007\n",
    "        dp = [0]*(n+1)\n",
    "        \n",
    "        dp[0] = 2\n",
    "        dp[1] = 1\n",
    "        \n",
    "        for i in range(2,n+1):\n",
    "            dp[i] = (dp[i-1]+dp[i-2]) % mod\n",
    "        return(dp[n])\n",
    "\n",
    "if __name__ == '__main__': \n",
    "    t = int(input())\n",
    "    for _ in range(t):\n",
    "        n = int(input())\n",
    "        ob = Solution()\n",
    "        print(ob.lucas(n))"
   ]
  }
 ],
 "metadata": {
  "kernelspec": {
   "display_name": "Python 3",
   "language": "python",
   "name": "python3"
  },
  "language_info": {
   "codemirror_mode": {
    "name": "ipython",
    "version": 3
   },
   "file_extension": ".py",
   "mimetype": "text/x-python",
   "name": "python",
   "nbconvert_exporter": "python",
   "pygments_lexer": "ipython3",
   "version": "3.6.10"
  }
 },
 "nbformat": 4,
 "nbformat_minor": 4
}
