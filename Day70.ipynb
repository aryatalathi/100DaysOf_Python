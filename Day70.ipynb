{
 "cells": [
  {
   "cell_type": "code",
   "execution_count": null,
   "metadata": {},
   "outputs": [],
   "source": []
  },
  {
   "cell_type": "code",
   "execution_count": 1,
   "metadata": {},
   "outputs": [
    {
     "name": "stdout",
     "output_type": "stream",
     "text": [
      "2\n",
      "149811\n",
      "3\n",
      "111\n",
      "1002991\n",
      "3\n",
      "21\n"
     ]
    }
   ],
   "source": [
    "class Solution:\n",
    "\n",
    "    def removeKdigits(self, S, K):\n",
    "        stack = []        \n",
    "        ans = 0\n",
    "        for i in range(len(S)):\n",
    "            if(not stack) or (S[i]>=stack[-1]):\n",
    "                stack.append(S[i])\n",
    "            else:\n",
    "                while stack and K and (S[i]<stack[-1]):\n",
    "                    K -= 1\n",
    "                    stack.pop()\n",
    "                stack.append(S[i])\n",
    "        while K:\n",
    "            stack.pop()\n",
    "            K -= 1\n",
    "        for i in stack:\n",
    "            ans = ans*10 + int(i)\n",
    "        return ans\n",
    "    \n",
    "if __name__ == '__main__':\n",
    "\n",
    "    t = int(input())\n",
    "\n",
    "    for _ in range(t):\n",
    "        S = input()\n",
    "        K = int(input())\n",
    "\n",
    "        obj = Solution()\n",
    "\n",
    "        ans = obj.removeKdigits(S, K)\n",
    "\n",
    "        print(ans)"
   ]
  }
 ],
 "metadata": {
  "kernelspec": {
   "display_name": "Python 3",
   "language": "python",
   "name": "python3"
  },
  "language_info": {
   "codemirror_mode": {
    "name": "ipython",
    "version": 3
   },
   "file_extension": ".py",
   "mimetype": "text/x-python",
   "name": "python",
   "nbconvert_exporter": "python",
   "pygments_lexer": "ipython3",
   "version": "3.6.10"
  }
 },
 "nbformat": 4,
 "nbformat_minor": 4
}
