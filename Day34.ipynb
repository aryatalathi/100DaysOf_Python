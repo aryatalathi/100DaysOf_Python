{
 "cells": [
  {
   "cell_type": "markdown",
   "metadata": {},
   "source": [
    "### Binary Search\n",
    "#### Given a sorted array of size N and an integer K, find the position at which K is present in the array using binary search."
   ]
  },
  {
   "cell_type": "code",
   "execution_count": 1,
   "metadata": {},
   "outputs": [
    {
     "name": "stdout",
     "output_type": "stream",
     "text": [
      "2\n",
      "4\n",
      "2 7 4 9\n",
      "2\n",
      "0\n",
      "6\n",
      "11 66 24 89 54 25\n",
      "23\n",
      "-1\n"
     ]
    }
   ],
   "source": [
    "class Solution:    \n",
    "    def binarysearch(self, arr, n, k):\n",
    "        low = 0\n",
    "        high = n-1\n",
    "        \n",
    "        while(low<=high):\n",
    "            mid = (low+high)//2\n",
    "            \n",
    "            if(arr[mid]==k):\n",
    "                return mid\n",
    "            elif(k<arr[mid]):\n",
    "                high = (mid-1)\n",
    "            else:\n",
    "                low = mid + 1\n",
    "        return -1\n",
    "\n",
    "if __name__ == '__main__':\n",
    "    t=int(input())\n",
    "    for i in range(t):\n",
    "        n=int(input())\n",
    "        arr=list(map(int, input().strip().split(' ')))\n",
    "        k=int(input())\n",
    "        ob = Solution()\n",
    "        print (ob.binarysearch(arr, n, k))"
   ]
  }
 ],
 "metadata": {
  "kernelspec": {
   "display_name": "Python 3",
   "language": "python",
   "name": "python3"
  },
  "language_info": {
   "codemirror_mode": {
    "name": "ipython",
    "version": 3
   },
   "file_extension": ".py",
   "mimetype": "text/x-python",
   "name": "python",
   "nbconvert_exporter": "python",
   "pygments_lexer": "ipython3",
   "version": "3.6.10"
  }
 },
 "nbformat": 4,
 "nbformat_minor": 4
}
