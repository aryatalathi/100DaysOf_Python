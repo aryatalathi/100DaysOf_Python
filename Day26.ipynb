{
 "cells": [
  {
   "cell_type": "markdown",
   "metadata": {},
   "source": [
    "### Insertion Sort "
   ]
  },
  {
   "cell_type": "code",
   "execution_count": 1,
   "metadata": {},
   "outputs": [
    {
     "name": "stdout",
     "output_type": "stream",
     "text": [
      "2\n",
      "4 \n",
      "3 5 2 7\n",
      "2 3 5 7 \n",
      "6\n",
      "8 2 1 7 4 5\n",
      "1 2 4 5 7 8 \n"
     ]
    }
   ],
   "source": [
    "def insert(arr):\n",
    "    n = len(arr)\n",
    "    for i in range(1, n):\n",
    "        for j in range(0, i):\n",
    "            if (arr[i] < arr[j]):\n",
    "                arr[i], arr[j] = arr[j], arr[i]\n",
    "    return arr\n",
    "\n",
    "\n",
    "if __name__==\"__main__\":\n",
    "    t=int(input())\n",
    "    for i in range(t):\n",
    "        n=int(input())\n",
    "        arr=list(map(int,input().split()))\n",
    "    \n",
    "        insert(arr)\n",
    "    \n",
    "        for i in range(n):\n",
    "            print(arr[i],end=\" \")\n",
    "    \n",
    "        print()"
   ]
  }
 ],
 "metadata": {
  "kernelspec": {
   "display_name": "Python 3",
   "language": "python",
   "name": "python3"
  },
  "language_info": {
   "codemirror_mode": {
    "name": "ipython",
    "version": 3
   },
   "file_extension": ".py",
   "mimetype": "text/x-python",
   "name": "python",
   "nbconvert_exporter": "python",
   "pygments_lexer": "ipython3",
   "version": "3.6.10"
  }
 },
 "nbformat": 4,
 "nbformat_minor": 4
}
