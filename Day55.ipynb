{
 "cells": [
  {
   "cell_type": "markdown",
   "metadata": {},
   "source": [
    "### Rotate a Linked List\n",
    "### Given a singly linked list of size N. The task is to rotate the linked list counter-clockwise by k nodes, where k is a given positive integer smaller than or equal to length of the linked list."
   ]
  },
  {
   "cell_type": "code",
   "execution_count": 1,
   "metadata": {},
   "outputs": [
    {
     "name": "stdout",
     "output_type": "stream",
     "text": [
      "2\n",
      "5\n",
      "1 2 6 3 4\n",
      "2\n",
      "6 3 4 1 2 \n",
      "4\n",
      "23 45 78 12 \n",
      "3\n",
      "12 23 45 78 \n"
     ]
    }
   ],
   "source": [
    "class Solution:\n",
    "    \n",
    "    #Function to rotate a linked list.\n",
    "    def rotate(self, head, k):\n",
    "        temp = head\n",
    "        while(temp.next!=None):\n",
    "            temp = temp.next\n",
    "        \n",
    "        temp.next = head\n",
    "        while(k>0):\n",
    "            end = head\n",
    "            head = head.next\n",
    "            k-=1\n",
    "        end.next = None\n",
    "        return head\n",
    "\n",
    "class Node:\n",
    "    def __init__(self, data):\n",
    "        self.data = data\n",
    "        self.next = None\n",
    "\n",
    "class LinkedList:\n",
    "    def __init__(self):\n",
    "        self.head = None\n",
    "        self.tail = None\n",
    "    \n",
    "    def insert(self,val):\n",
    "        if self.head is None:\n",
    "            self.head = Node(val)\n",
    "            self.tail = self.head\n",
    "        else:\n",
    "            self.tail.next = Node(val)\n",
    "            self.tail = self.tail.next\n",
    "\n",
    "def printList(n):\n",
    "    while n:\n",
    "        print(n.data, end=' ')\n",
    "        n = n.next\n",
    "    print()\n",
    "\n",
    "if __name__==\"__main__\":\n",
    "    for _ in range(int(input())):\n",
    "        n = int(input())\n",
    "        arr = [int(x) for x in input().split()]\n",
    "        k = int(input())\n",
    "        \n",
    "        lis = LinkedList()\n",
    "        for i in arr:\n",
    "            lis.insert(i)\n",
    "        \n",
    "        head = Solution().rotate(lis.head,k)\n",
    "        printList(head)"
   ]
  }
 ],
 "metadata": {
  "kernelspec": {
   "display_name": "Python 3",
   "language": "python",
   "name": "python3"
  },
  "language_info": {
   "codemirror_mode": {
    "name": "ipython",
    "version": 3
   },
   "file_extension": ".py",
   "mimetype": "text/x-python",
   "name": "python",
   "nbconvert_exporter": "python",
   "pygments_lexer": "ipython3",
   "version": "3.6.10"
  }
 },
 "nbformat": 4,
 "nbformat_minor": 4
}
