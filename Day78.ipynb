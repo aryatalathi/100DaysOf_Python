{
 "cells": [
  {
   "cell_type": "markdown",
   "metadata": {},
   "source": [
    "### Suppose there is a circle. There are N petrol pumps on that circle. You will be given two sets of data.\n",
    "#### 1. The amount of petrol that every petrol pump has.\n",
    "#### 2. Distance from that petrol pump to the next petrol pump.\n",
    "#### Find a starting point where the truck can start to get through the complete circle without exhausting its petrol in between."
   ]
  },
  {
   "cell_type": "code",
   "execution_count": 1,
   "metadata": {},
   "outputs": [
    {
     "name": "stdout",
     "output_type": "stream",
     "text": [
      "1\n",
      "4\n",
      "4 6 6 5 7 3 4 5 \n",
      "1\n"
     ]
    }
   ],
   "source": [
    "'''    lis[][0]:Petrol\n",
    "    lis[][1]:Distance\n",
    "'''\n",
    "\n",
    "class Solution:\n",
    "    \n",
    "    #Function to find starting point where the truck can start to get through\n",
    "    #the complete circle without exhausting its petrol in between\n",
    "    def tour(self,lis, n):\n",
    "        start = 0 \n",
    "        s = 0          \n",
    "        d = 0        \n",
    "        \n",
    "        for i in range(n):\n",
    "          s += lis[i][0] - lis[i][1]\n",
    "          if s < 0:            \n",
    "            start = i+1        \n",
    "            d += s            \n",
    "            s = 0           \n",
    "        return start if (s+d)>=0 else -1\n",
    "\n",
    "#{ \n",
    "#  Driver Code Starts\n",
    "if __name__ == '__main__': \n",
    "    t = int(input())\n",
    "    for i in range(t):\n",
    "        n = int(input())\n",
    "        arr=list(map(int, input().strip().split()))\n",
    "        lis=[]\n",
    "        for i in range(1, 2*n, 2):\n",
    "            lis.append([ arr[i-1], arr[i] ])\n",
    "        print(Solution().tour(lis, n))\n",
    "    # Contributed by: Harshit Sidhwa\n",
    "# } Driver Code Ends"
   ]
  }
 ],
 "metadata": {
  "kernelspec": {
   "display_name": "Python 3",
   "language": "python",
   "name": "python3"
  },
  "language_info": {
   "codemirror_mode": {
    "name": "ipython",
    "version": 3
   },
   "file_extension": ".py",
   "mimetype": "text/x-python",
   "name": "python",
   "nbconvert_exporter": "python",
   "pygments_lexer": "ipython3",
   "version": "3.6.10"
  }
 },
 "nbformat": 4,
 "nbformat_minor": 4
}
