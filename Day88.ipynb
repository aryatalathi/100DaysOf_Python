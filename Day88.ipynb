{
 "cells": [
  {
   "cell_type": "markdown",
   "metadata": {},
   "source": [
    "### Given an integer N denoting the Length of a line segment. You need to cut the line segment in such a way that the cut length of a line segment each time is either x , y or z. Here x, y, and z are integers.\n",
    "##### After performing all the cut operations, your total number of cut segments must be maximum."
   ]
  },
  {
   "cell_type": "code",
   "execution_count": 1,
   "metadata": {},
   "outputs": [
    {
     "name": "stdout",
     "output_type": "stream",
     "text": [
      "2\n",
      "4\n",
      "2 1 1\n",
      "4\n",
      "5\n",
      "5 3 2\n",
      "2\n"
     ]
    }
   ],
   "source": [
    "class Solution:\n",
    "    def maximizeTheCuts(self,n,x,y,z):\n",
    "        dp = [0]*(n+1)\n",
    "        for i in range(1, n+1):\n",
    "            if i >= x and (dp[i-x] != 0 or (i-x) == 0):\n",
    "                dp[i] = 1 + dp[i-x]\n",
    "            if i >= y and (dp[i-y] != 0 or (i-y) == 0):\n",
    "                dp[i] = max(dp[i], 1+dp[i-y])\n",
    "            if i >= z and (dp[i-z] != 0 or (i-z) == 0):\n",
    "                dp[i] = max(dp[i], 1+dp[i-z])\n",
    "        return dp[-1]\n",
    "\n",
    "if __name__ == '__main__':\n",
    "    t=int(input())\n",
    "    for tcs in range(t):\n",
    "        n=int(input())\n",
    "        x,y,z=[int(x) for x in input().split()]\n",
    "        \n",
    "        print(Solution().maximizeTheCuts(n,x,y,z))"
   ]
  }
 ],
 "metadata": {
  "kernelspec": {
   "display_name": "Python 3",
   "language": "python",
   "name": "python3"
  },
  "language_info": {
   "codemirror_mode": {
    "name": "ipython",
    "version": 3
   },
   "file_extension": ".py",
   "mimetype": "text/x-python",
   "name": "python",
   "nbconvert_exporter": "python",
   "pygments_lexer": "ipython3",
   "version": "3.6.10"
  }
 },
 "nbformat": 4,
 "nbformat_minor": 4
}
