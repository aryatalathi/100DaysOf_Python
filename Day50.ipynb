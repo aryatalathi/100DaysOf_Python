{
 "cells": [
  {
   "cell_type": "markdown",
   "metadata": {},
   "source": [
    "### Finding middle element in a linked list\n",
    "#### If there are even nodes, then there would be two middle nodes, we need to print the second middle element"
   ]
  },
  {
   "cell_type": "code",
   "execution_count": 1,
   "metadata": {},
   "outputs": [
    {
     "name": "stdout",
     "output_type": "stream",
     "text": [
      "3\n",
      "5\n",
      "1 2 3 4 5\n",
      "3\n",
      "6\n",
      "34 56 12 78 90 23\n",
      "78\n",
      "4\n",
      "1 9 2 8\n",
      "2\n"
     ]
    }
   ],
   "source": [
    "def findMid(head):\n",
    "   fast = head\n",
    "   slow = head\n",
    "   if(head==None):\n",
    "        return -1\n",
    "   else:\n",
    "        while(fast!=None and fast.next!=None):\n",
    "           fast = fast.next.next\n",
    "           slow = slow.next\n",
    "        return slow.data\n",
    "\n",
    "#{ \n",
    "#  Driver Code Starts\n",
    "# Node Class    \n",
    "class node:\n",
    "    def __init__(self, val):\n",
    "        self.data = val\n",
    "        self.next = None\n",
    "        \n",
    "class Linked_List:\n",
    "    def __init__(self):\n",
    "        self.head = None\n",
    "        self.tail = None\n",
    "\n",
    "    def insert(self, val):\n",
    "        if self.head == None:\n",
    "            self.head = node(val)\n",
    "            self.tail = self.head\n",
    "        else:\n",
    "            new_node = node(val)\n",
    "            self.tail.next = new_node\n",
    "            self.tail = self.tail.next\n",
    "\n",
    "def createList(arr, n):\n",
    "    lis = Linked_List()\n",
    "    for i in range(n):\n",
    "        lis.insert(arr[i])\n",
    "    return lis.head\n",
    "\n",
    "if __name__=='__main__':\n",
    "    t = int(input())\n",
    "    for i in range(t):\n",
    "        n = int(input())\n",
    "        arr = list(map(int, input().strip().split()))\n",
    "        head = createList(arr, n)\n",
    "        print(findMid(head))"
   ]
  }
 ],
 "metadata": {
  "kernelspec": {
   "display_name": "Python 3",
   "language": "python",
   "name": "python3"
  },
  "language_info": {
   "codemirror_mode": {
    "name": "ipython",
    "version": 3
   },
   "file_extension": ".py",
   "mimetype": "text/x-python",
   "name": "python",
   "nbconvert_exporter": "python",
   "pygments_lexer": "ipython3",
   "version": "3.6.10"
  }
 },
 "nbformat": 4,
 "nbformat_minor": 4
}
