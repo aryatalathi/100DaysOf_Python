{
 "cells": [
  {
   "cell_type": "markdown",
   "metadata": {},
   "source": [
    "### Given a sorted array of positive integers. Rearrange  the array elements alternatively i.e first element should be max value, second should be min value, third should be second max, fourth should be second min and so on."
   ]
  },
  {
   "cell_type": "code",
   "execution_count": 2,
   "metadata": {},
   "outputs": [
    {
     "name": "stdout",
     "output_type": "stream",
     "text": [
      "2\n",
      "6 \n",
      "1 2 3 4 5 6\n",
      "6 1 5 2 4 3 \n",
      "4 \n",
      "2 4 6 7\n",
      "7 2 6 4 \n"
     ]
    }
   ],
   "source": [
    "import math\n",
    "def rearrange(arr, n): \n",
    "    if(n%2==0):\n",
    "        m = n//2\n",
    "    else:\n",
    "        m = (n//2)+1\n",
    "    \n",
    "    k = []\n",
    "    \n",
    "    for i in range(m):\n",
    "        k.append(arr[(i+1)*(-1)])\n",
    "        k.append(arr[i])\n",
    "\n",
    "    for i in range(n):\n",
    "        arr[i] += k[i] - arr[i]\n",
    "\n",
    "def main():\n",
    "        T=int(input())\n",
    "        while(T>0):\n",
    "            \n",
    "            n=int(input())\n",
    "            \n",
    "            arr=[int(x) for x in input().strip().split()]\n",
    "            \n",
    "            rearrange(arr,n)\n",
    "            \n",
    "            for i in arr:\n",
    "                print(i,end=\" \")\n",
    "            \n",
    "            print()\n",
    "            \n",
    "            T-=1\n",
    "\n",
    "\n",
    "if __name__ == \"__main__\":\n",
    "    main()"
   ]
  }
 ],
 "metadata": {
  "kernelspec": {
   "display_name": "Python 3",
   "language": "python",
   "name": "python3"
  },
  "language_info": {
   "codemirror_mode": {
    "name": "ipython",
    "version": 3
   },
   "file_extension": ".py",
   "mimetype": "text/x-python",
   "name": "python",
   "nbconvert_exporter": "python",
   "pygments_lexer": "ipython3",
   "version": "3.6.10"
  }
 },
 "nbformat": 4,
 "nbformat_minor": 4
}
