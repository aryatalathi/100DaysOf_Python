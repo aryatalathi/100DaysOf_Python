{
 "cells": [
  {
   "cell_type": "markdown",
   "metadata": {},
   "source": [
    "### Given an expression string x. Examine whether the pairs and the orders of “{“,”}”,”(“,”)”,”[“,”]” are correct in exp."
   ]
  },
  {
   "cell_type": "code",
   "execution_count": null,
   "metadata": {},
   "outputs": [],
   "source": [
    "class Solution:\n",
    "    \n",
    "    #Function to check if brackets are balanced or not.\n",
    "    def ispar(self,x):\n",
    "        stack = []\n",
    "        brackets = {\"{\":\"}\",\"[\":\"]\",\"(\":\")\"}\n",
    "        for char in x:\n",
    "            if(char==\"{\" or char==\"[\" or char==\"(\"):\n",
    "                stack.append(char)\n",
    "            else:\n",
    "                if stack:\n",
    "                    top = stack.pop()\n",
    "                    if brackets[top]!=char:\n",
    "                        return False\n",
    "                else:\n",
    "                    return False\n",
    "        return False if stack else True"
   ]
  }
 ],
 "metadata": {
  "kernelspec": {
   "display_name": "Python 3",
   "language": "python",
   "name": "python3"
  },
  "language_info": {
   "codemirror_mode": {
    "name": "ipython",
    "version": 3
   },
   "file_extension": ".py",
   "mimetype": "text/x-python",
   "name": "python",
   "nbconvert_exporter": "python",
   "pygments_lexer": "ipython3",
   "version": "3.6.10"
  }
 },
 "nbformat": 4,
 "nbformat_minor": 4
}
