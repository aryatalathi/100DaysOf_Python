{
 "cells": [
  {
   "cell_type": "markdown",
   "metadata": {},
   "source": [
    "### Queue Operations"
   ]
  },
  {
   "cell_type": "code",
   "execution_count": 1,
   "metadata": {},
   "outputs": [
    {
     "name": "stdout",
     "output_type": "stream",
     "text": [
      "1\n",
      "5\n",
      "1 2 1 3 2 1 4 2\n",
      "2 3 \n"
     ]
    }
   ],
   "source": [
    "'''class Node: \n",
    "      \n",
    "    def __init__(self, data): \n",
    "        self.data = data \n",
    "        self.next = None'''\n",
    "        \n",
    "class MyQueue:\n",
    "    \n",
    "    def __init__(self):\n",
    "        self.arr = []\n",
    "    \n",
    "    def push(self, item): \n",
    "         self.arr.append(item)\n",
    "    \n",
    "    def pop(self):\n",
    "         try:\n",
    "             return self.arr.pop(0)\n",
    "         except:\n",
    "             return -1\n",
    "\n",
    "if __name__=='__main__':\n",
    "    t=int(input())\n",
    "    for i in range(t):\n",
    "        s=MyQueue()\n",
    "        q=int(input())\n",
    "        q1=list(map(int,input().split()))\n",
    "        i=0\n",
    "        while(i<len(q1)):\n",
    "            if(q1[i]==1):\n",
    "                s.push(q1[i+1])\n",
    "                i=i+2\n",
    "            elif(q1[i]==2):\n",
    "                print(s.pop(),end=\" \")\n",
    "                i=i+1\n",
    "            elif(s.isEmpty()):\n",
    "                print(-1)\n",
    "                i=i+1\n",
    "        print()   "
   ]
  }
 ],
 "metadata": {
  "kernelspec": {
   "display_name": "Python 3",
   "language": "python",
   "name": "python3"
  },
  "language_info": {
   "codemirror_mode": {
    "name": "ipython",
    "version": 3
   },
   "file_extension": ".py",
   "mimetype": "text/x-python",
   "name": "python",
   "nbconvert_exporter": "python",
   "pygments_lexer": "ipython3",
   "version": "3.6.10"
  }
 },
 "nbformat": 4,
 "nbformat_minor": 4
}
