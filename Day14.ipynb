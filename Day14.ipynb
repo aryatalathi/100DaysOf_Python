{
 "cells": [
  {
   "cell_type": "markdown",
   "metadata": {},
   "source": [
    "### Rearrange an array with O(1) extra space\n",
    "### Given an array arr[] of size N where every element is in the range from 0 to n-1. Rearrange the given array so that arr[i] becomes arr[arr[i]]."
   ]
  },
  {
   "cell_type": "code",
   "execution_count": 1,
   "metadata": {},
   "outputs": [
    {
     "name": "stdout",
     "output_type": "stream",
     "text": [
      "2\n",
      "2\n",
      "1 0\n",
      "0 1 \n",
      "5\n",
      "2 4 3 1 0\n",
      "3 0 1 4 2 \n"
     ]
    }
   ],
   "source": [
    "import math\n",
    "class Solution:\n",
    "    def arrange(self,arr, n): \n",
    "        for index in range(n):\n",
    "            arr[index] = arr[index] + arr[arr[index]]*n\n",
    "        for index in range(n):\n",
    "            arr[index] = (arr[index]//n)%n\n",
    "\n",
    "def main():\n",
    "        T=int(input())\n",
    "        while(T>0):\n",
    "            \n",
    "            n=int(input())\n",
    "            \n",
    "            arr=[int(x) for x in input().strip().split()]\n",
    "            \n",
    "            ob=Solution()\n",
    "            ob.arrange(arr,n)\n",
    "            \n",
    "            for i in arr:\n",
    "                print(i,end=\" \")\n",
    "            \n",
    "            print()\n",
    "            \n",
    "            T-=1\n",
    "\n",
    "\n",
    "if __name__ == \"__main__\":\n",
    "    main()"
   ]
  },
  {
   "cell_type": "code",
   "execution_count": null,
   "metadata": {},
   "outputs": [],
   "source": []
  }
 ],
 "metadata": {
  "kernelspec": {
   "display_name": "Python 3",
   "language": "python",
   "name": "python3"
  },
  "language_info": {
   "codemirror_mode": {
    "name": "ipython",
    "version": 3
   },
   "file_extension": ".py",
   "mimetype": "text/x-python",
   "name": "python",
   "nbconvert_exporter": "python",
   "pygments_lexer": "ipython3",
   "version": "3.6.10"
  }
 },
 "nbformat": 4,
 "nbformat_minor": 4
}
