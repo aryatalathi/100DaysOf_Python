{
 "cells": [
  {
   "cell_type": "markdown",
   "metadata": {},
   "source": [
    "### Given an infix expression in the form of string str. Convert this infix expression to postfix expression.\n",
    "\n",
    "#### Infix expression: The expression of the form a op b. When an operator is in-between every pair of operands.\n",
    "#### Postfix expression: The expression of the form a b op. When an operator is followed for every pair of operands.\n",
    "#### Note: The order of precedence is: ^ greater than * equals to / greater than + equals to -. "
   ]
  },
  {
   "cell_type": "code",
   "execution_count": 2,
   "metadata": {},
   "outputs": [
    {
     "name": "stdout",
     "output_type": "stream",
     "text": [
      "1\n",
      "abcd^e-fgh*+^*+i-\n",
      "abcde^fgh*-^*+i+-\n"
     ]
    }
   ],
   "source": [
    "import sys\n",
    "from collections import deque\n",
    "\n",
    "\n",
    "def prec(c):\n",
    "    if c == '*' or c == '/':\n",
    "        return 3\n",
    "    if c == '+' or c == '-':\n",
    "        return 4\n",
    "    if c == '^':\n",
    "        return 2\n",
    "    else:\n",
    "        return -1\n",
    "def isOperand(c):\n",
    "    return ('a' <= c <= 'z') or ('A' <= c <= 'Z') or ('0' <= c <= '9')\n",
    "def InfixtoPostfix(exp):\n",
    "    s = deque()\n",
    "    postfix = \"\"\n",
    "    for c in exp:\n",
    "        if c == '(':\n",
    "            s.append(c)\n",
    "        elif c == ')':\n",
    "            while s[-1] != '(':\n",
    "                postfix += s.pop()\n",
    "            s.pop()\n",
    "        elif isOperand(c):\n",
    "            postfix += c\n",
    "        else:\n",
    "            while s and prec(c) >= prec(s[-1]):\n",
    "                postfix += s.pop()\n",
    "            s.append(c)\n",
    "    while s:\n",
    "        postfix += s.pop()\n",
    "    return postfix\n",
    "\n",
    "import atexit\n",
    "import io\n",
    "import sys\n",
    "\n",
    "if __name__ == '__main__':\n",
    "    test_cases = int(input())\n",
    "    for cases in range(test_cases) :\n",
    "        exp = str(input())\n",
    "        print(InfixtoPostfix(exp))"
   ]
  }
 ],
 "metadata": {
  "kernelspec": {
   "display_name": "Python 3",
   "language": "python",
   "name": "python3"
  },
  "language_info": {
   "codemirror_mode": {
    "name": "ipython",
    "version": 3
   },
   "file_extension": ".py",
   "mimetype": "text/x-python",
   "name": "python",
   "nbconvert_exporter": "python",
   "pygments_lexer": "ipython3",
   "version": "3.6.10"
  }
 },
 "nbformat": 4,
 "nbformat_minor": 4
}
