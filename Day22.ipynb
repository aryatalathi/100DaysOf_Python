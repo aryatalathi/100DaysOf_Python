{
 "cells": [
  {
   "cell_type": "markdown",
   "metadata": {},
   "source": [
    "### Anagram or Not\n",
    "#### A string  is said to be an anagram of a string  if it is created by rearranging the characters which are present in string "
   ]
  },
  {
   "cell_type": "code",
   "execution_count": null,
   "metadata": {},
   "outputs": [],
   "source": [
    "n = int(input())\n",
    "for _ in range(n):\n",
    "  s = str(input())\n",
    "  t = str(input())\n",
    "  \n",
    "  flag = True\n",
    "  n1 = len(s)\n",
    "  n2 = len(t)\n",
    "  \n",
    "  if(n1!=n2):\n",
    "    flag = False\n",
    "  \n",
    "  s = sorted(s) \n",
    "  t = sorted(t) \n",
    "  \n",
    "  for i in range(0, n1): \n",
    "    if (s[i] != t[i]): \n",
    "      flag = False\n",
    "    \n",
    "  if(flag==False):\n",
    "    print(\"NO\")\n",
    "  else:\n",
    "    print(\"YES\")"
   ]
  },
  {
   "cell_type": "code",
   "execution_count": null,
   "metadata": {},
   "outputs": [],
   "source": []
  }
 ],
 "metadata": {
  "kernelspec": {
   "display_name": "Python 3",
   "language": "python",
   "name": "python3"
  },
  "language_info": {
   "codemirror_mode": {
    "name": "ipython",
    "version": 3
   },
   "file_extension": ".py",
   "mimetype": "text/x-python",
   "name": "python",
   "nbconvert_exporter": "python",
   "pygments_lexer": "ipython3",
   "version": "3.6.10"
  }
 },
 "nbformat": 4,
 "nbformat_minor": 4
}
