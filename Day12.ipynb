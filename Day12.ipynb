{
 "cells": [
  {
   "cell_type": "markdown",
   "metadata": {},
   "source": [
    "### Given N non-negative integers a1,a2,....an where each represents a point at coordinate (i, ai). N vertical lines are drawn such that the two endpoints of line i is at (i, ai) and (i,0). Find two lines, which together with x-axis forms a container, such that it contains the most water."
   ]
  },
  {
   "cell_type": "code",
   "execution_count": 1,
   "metadata": {},
   "outputs": [
    {
     "name": "stdout",
     "output_type": "stream",
     "text": [
      "2\n",
      "4\n",
      "1 3 4 5\n",
      "6\n",
      "5\n",
      "2 3 1 5 6\n",
      "9\n"
     ]
    }
   ],
   "source": [
    "def maxArea(A,le):\n",
    "    x=0\n",
    "    y=len(A) -1\n",
    "    area=0\n",
    "      \n",
    "    while x<y: \n",
    "        area=max(area, min(A[x], A[y])*(y-x)) \n",
    "      \n",
    "        if A[x]<A[y]: \n",
    "            x+=1\n",
    "        else: \n",
    "            y-=1\n",
    "    return area \n",
    "\n",
    "for _ in range(0,int(input())):\n",
    "    \n",
    "    n = int(input())\n",
    "    l = list(map(int,input().split()))\n",
    "    \n",
    "    print(maxArea(l,n))"
   ]
  }
 ],
 "metadata": {
  "kernelspec": {
   "display_name": "Python 3",
   "language": "python",
   "name": "python3"
  },
  "language_info": {
   "codemirror_mode": {
    "name": "ipython",
    "version": 3
   },
   "file_extension": ".py",
   "mimetype": "text/x-python",
   "name": "python",
   "nbconvert_exporter": "python",
   "pygments_lexer": "ipython3",
   "version": "3.6.10"
  }
 },
 "nbformat": 4,
 "nbformat_minor": 4
}
