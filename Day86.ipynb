{
 "cells": [
  {
   "cell_type": "markdown",
   "metadata": {},
   "source": [
    "### A frog jumps either 1, 2, or 3 steps to go to the top. In how many ways can it reach the top. As the answer will be large find the answer modulo 1000000007."
   ]
  },
  {
   "cell_type": "code",
   "execution_count": 1,
   "metadata": {},
   "outputs": [
    {
     "name": "stdout",
     "output_type": "stream",
     "text": [
      "1\n",
      "1\n",
      "1\n"
     ]
    }
   ],
   "source": [
    "class Solution:\n",
    "    def countWays(self,n):\n",
    "        \n",
    "        mod = 1000000007\n",
    "        if(n==0):\n",
    "            return 0\n",
    "        if(n==1):\n",
    "            return 1\n",
    "        \n",
    "        if(n==2):\n",
    "            return 2\n",
    "        \n",
    "        if(n==3):\n",
    "            return 4\n",
    "        \n",
    "        a = 1\n",
    "        b = 2\n",
    "        c = 4\n",
    "        \n",
    "        for i in range(4,n):\n",
    "            d = (a + b + c) % mod\n",
    "            \n",
    "            a = b\n",
    "            b = c\n",
    "            c = d\n",
    "        \n",
    "        return d\n",
    "    \n",
    "if __name__ == '__main__':\n",
    "    test_cases = int(input())\n",
    "    for cases in range(test_cases):\n",
    "        m = int(input())\n",
    "        ob=Solution()\n",
    "        print(ob.countWays(m))"
   ]
  }
 ],
 "metadata": {
  "kernelspec": {
   "display_name": "Python 3",
   "language": "python",
   "name": "python3"
  },
  "language_info": {
   "codemirror_mode": {
    "name": "ipython",
    "version": 3
   },
   "file_extension": ".py",
   "mimetype": "text/x-python",
   "name": "python",
   "nbconvert_exporter": "python",
   "pygments_lexer": "ipython3",
   "version": "3.6.10"
  }
 },
 "nbformat": 4,
 "nbformat_minor": 4
}
