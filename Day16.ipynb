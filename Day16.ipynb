{
 "cells": [
  {
   "cell_type": "markdown",
   "metadata": {},
   "source": [
    "### Given a string S, find the length of the longest substring without repeating characters."
   ]
  },
  {
   "cell_type": "code",
   "execution_count": 1,
   "metadata": {},
   "outputs": [
    {
     "name": "stdout",
     "output_type": "stream",
     "text": [
      "1\n",
      "Aarya\n",
      "4\n"
     ]
    }
   ],
   "source": [
    "T =int(input())\n",
    "for _ in range(T):\n",
    "    s = str(input())\n",
    "    s1 = {}\n",
    "    ans = 0\n",
    "    last = 0\n",
    "    for i in range(len(s)):\n",
    "        if s[i] not in s1:\n",
    "            s1[s[i]] = i\n",
    "            ans = max(ans, i-last+1)\n",
    "        else:\n",
    "            n = s1[s[i]]\n",
    "            for j in range(last, n+1):\n",
    "                if s[j] in s1:\n",
    "                    s1.pop(s[j])\n",
    "            last = n+1\n",
    "            s1[s[i]] = i\n",
    "    print(ans)"
   ]
  },
  {
   "cell_type": "code",
   "execution_count": null,
   "metadata": {},
   "outputs": [],
   "source": []
  }
 ],
 "metadata": {
  "kernelspec": {
   "display_name": "Python 3",
   "language": "python",
   "name": "python3"
  },
  "language_info": {
   "codemirror_mode": {
    "name": "ipython",
    "version": 3
   },
   "file_extension": ".py",
   "mimetype": "text/x-python",
   "name": "python",
   "nbconvert_exporter": "python",
   "pygments_lexer": "ipython3",
   "version": "3.6.10"
  }
 },
 "nbformat": 4,
 "nbformat_minor": 4
}
