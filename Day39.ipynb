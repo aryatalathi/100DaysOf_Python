{
 "cells": [
  {
   "cell_type": "markdown",
   "metadata": {},
   "source": [
    "### Comparing Linked Lists\n",
    "#### Given two string, represented as linked lists (every character is a node->data in the linked list). Write a function compare() that works similar to strcmp(), i.e., it returns 0 if both strings are same, 1 if first linked list is lexicographically greater, and -1 if second is lexicographically greater."
   ]
  },
  {
   "cell_type": "code",
   "execution_count": 1,
   "metadata": {},
   "outputs": [
    {
     "name": "stdout",
     "output_type": "stream",
     "text": [
      "2 \n",
      "5\n",
      "a b a b a\n",
      "4\n",
      "a b a b\n",
      "1\n",
      "3\n",
      "a b a\n",
      "3\n",
      "a a b\n",
      "1\n"
     ]
    }
   ],
   "source": [
    "\n",
    "'''\n",
    "class Node:\n",
    "    def __init__(self,data):\n",
    "        self.data=data\n",
    "        self.next=None\n",
    "'''\n",
    "def compare(head1, head2):\n",
    "    #return 1/-1/0\n",
    "    if head1 is None or head2 is None:\n",
    "        return\n",
    "    \n",
    "    s1 = ''\n",
    "    s2 = ''\n",
    "    flag1 = head1\n",
    "    flag2 = head2\n",
    "    \n",
    "    while flag1 is not None:\n",
    "        s1 += str(flag1.data)\n",
    "        flag1 = flag1.next\n",
    "        \n",
    "    while flag2 is not None:\n",
    "        s2 += str(flag2.data)\n",
    "        flag2 = flag2.next\n",
    "        \n",
    "    if s1 == s2:\n",
    "        return 0\n",
    "    elif s1 > s2:\n",
    "        return 1\n",
    "    else:\n",
    "        return -1\n",
    "\n",
    "class Node:\n",
    "    def __init__(self,data):\n",
    "        self.data=data\n",
    "        self.next=None\n",
    "\n",
    "class Llist:\n",
    "    def __init__(self):\n",
    "        self.head=None\n",
    "    \n",
    "    def insert(self,data,tail):\n",
    "        node=Node(data)\n",
    "        \n",
    "        if not self.head:\n",
    "            self.head=node\n",
    "            return node\n",
    "        \n",
    "        tail.next=node\n",
    "        return node\n",
    "        \n",
    "def printList(head):\n",
    "    while head:\n",
    "        print(head.data,end=' ')\n",
    "        head=head.next\n",
    "        \n",
    "if __name__ == '__main__':\n",
    "    t=int(input())\n",
    "    \n",
    "    for tcs in range(t):\n",
    "        \n",
    "        n1=int(input())\n",
    "        arr1=input().split()\n",
    "        ll1=Llist()\n",
    "        tail=None\n",
    "        for nodeData in arr1:\n",
    "            tail=ll1.insert(nodeData,tail)\n",
    "            \n",
    "            \n",
    "        n2=int(input())\n",
    "        arr2=input().split()\n",
    "        ll2=Llist()\n",
    "        tail=None\n",
    "        for nodeData in arr2:\n",
    "            tail=ll2.insert(nodeData,tail)\n",
    "        \n",
    "        \n",
    "        print(compare(ll1.head,ll2.head))"
   ]
  }
 ],
 "metadata": {
  "kernelspec": {
   "display_name": "Python 3",
   "language": "python",
   "name": "python3"
  },
  "language_info": {
   "codemirror_mode": {
    "name": "ipython",
    "version": 3
   },
   "file_extension": ".py",
   "mimetype": "text/x-python",
   "name": "python",
   "nbconvert_exporter": "python",
   "pygments_lexer": "ipython3",
   "version": "3.6.10"
  }
 },
 "nbformat": 4,
 "nbformat_minor": 4
}
