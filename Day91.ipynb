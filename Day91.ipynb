{
 "cells": [
  {
   "cell_type": "markdown",
   "metadata": {},
   "source": [
    "### Given a string, find the length of the longest repeating subsequence such that the two subsequences don't have same string character at the same position, i.e., any i'th character in the two subsequences shouldn't have the same index in the original string."
   ]
  },
  {
   "cell_type": "code",
   "execution_count": 2,
   "metadata": {},
   "outputs": [
    {
     "name": "stdout",
     "output_type": "stream",
     "text": [
      "2\n",
      "axxxy\n",
      "2\n",
      "aab\n",
      "1\n"
     ]
    }
   ],
   "source": [
    "class Solution:\n",
    "    def LongestRepeatingSubsequence(self, str):\n",
    "        n = len(str)\n",
    "        dp = [[0]*(n+1) for _ in range(n+1)]\n",
    "        \n",
    "        for i in range(1, n+1):\n",
    "            for j in range(1, n+1):\n",
    "                if(i==0 or j==0):\n",
    "                    dp[i][j] = 0\n",
    "                elif (str[i-1] == str[j-1] and i != j):\n",
    "                    dp[i][j] = 1 + dp[i-1][j-1]\n",
    "                else:\n",
    "                    dp[i][j] = max(dp[i-1][j], dp[i][j-1])\n",
    "                    \n",
    "        return dp[-1][-1]\n",
    "\n",
    "if __name__ == '__main__':\n",
    "    T=int(input())\n",
    "    for i in range(T):\n",
    "        str = input()\n",
    "        ob = Solution()\n",
    "        ans = ob.LongestRepeatingSubsequence(str)\n",
    "        print(ans)"
   ]
  }
 ],
 "metadata": {
  "kernelspec": {
   "display_name": "Python 3",
   "language": "python",
   "name": "python3"
  },
  "language_info": {
   "codemirror_mode": {
    "name": "ipython",
    "version": 3
   },
   "file_extension": ".py",
   "mimetype": "text/x-python",
   "name": "python",
   "nbconvert_exporter": "python",
   "pygments_lexer": "ipython3",
   "version": "3.6.10"
  }
 },
 "nbformat": 4,
 "nbformat_minor": 4
}
