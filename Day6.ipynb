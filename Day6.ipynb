{
 "cells": [
  {
   "cell_type": "markdown",
   "metadata": {},
   "source": [
    "### Given four integers A, B, C, N. A, B, C represents the first three numbers of geek-onacci series. \n",
    "### Find the Nth number of the series. \n",
    "### The nth number of geek-onacci series is a sum of the last three numbers \n",
    "### (summation of N-1th, N-2th, and N-3th geek-onacci numbers)"
   ]
  },
  {
   "cell_type": "code",
   "execution_count": 1,
   "metadata": {},
   "outputs": [
    {
     "name": "stdout",
     "output_type": "stream",
     "text": [
      "3\n",
      "1 3 2 4\n",
      "6\n",
      "1 3 2 5\n",
      "11\n",
      "1 3 2 7\n",
      "36\n"
     ]
    }
   ],
   "source": [
    "#1 3 2 6 11 19\n",
    "t = int(input())\n",
    "for _ in range(t):\n",
    "    ax = [int(x) for x in input().strip().split()]\n",
    "    arr = ax[:-1]\n",
    "    n = int(ax[3])\n",
    "    \n",
    "    for i in range(3, n):\n",
    "        x = arr[i-1] + arr[i-2] + arr[i-3]\n",
    "        arr.append(x)\n",
    "    \n",
    "    print(arr[n-1])\n",
    "        \n",
    "        "
   ]
  }
 ],
 "metadata": {
  "kernelspec": {
   "display_name": "Python 3",
   "language": "python",
   "name": "python3"
  },
  "language_info": {
   "codemirror_mode": {
    "name": "ipython",
    "version": 3
   },
   "file_extension": ".py",
   "mimetype": "text/x-python",
   "name": "python",
   "nbconvert_exporter": "python",
   "pygments_lexer": "ipython3",
   "version": "3.6.10"
  }
 },
 "nbformat": 4,
 "nbformat_minor": 4
}
