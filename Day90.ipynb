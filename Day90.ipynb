{
 "cells": [
  {
   "cell_type": "markdown",
   "metadata": {},
   "source": [
    "### Imagine you have a special keyboard with the following keys: \n",
    "\n",
    "#### Key 1:  Prints 'A' on screen\n",
    "#### Key 2: (Ctrl-A): Select screen\n",
    "#### Key 3: (Ctrl-C): Copy selection to buffer\n",
    "#### Key 4: (Ctrl-V): Print buffer on screen appending it after what has already been printed.\n",
    "\n",
    "### Find maximum numbers of A's that can be produced by pressing keys on the special keyboard N times. "
   ]
  },
  {
   "cell_type": "code",
   "execution_count": 1,
   "metadata": {},
   "outputs": [
    {
     "name": "stdout",
     "output_type": "stream",
     "text": [
      "8\n",
      "1\n",
      "1\n",
      "2\n",
      "2\n",
      "3\n",
      "3\n",
      "5\n",
      "5\n",
      "7\n",
      "9\n",
      "8\n",
      "12\n",
      "9\n",
      "16\n",
      "11\n",
      "27\n"
     ]
    }
   ],
   "source": [
    "class Solution:\n",
    "    def optimalKeys(self, N):\n",
    "        maxi = 0\n",
    "        \n",
    "        if N<= 6:\n",
    "            return N\n",
    "    \n",
    "        screen = [0]*N\n",
    "     \n",
    "        for n in range(1, 7):\n",
    "            screen[n-1] = n\n",
    "     \n",
    "        for n in range(7, N + 1):\n",
    "         \n",
    "            screen[n-1] = 0\n",
    "     \n",
    "            for b in range(n-3, 0, -1):\n",
    "                curr = (n-b-1) * screen[b-1]\n",
    "                if (curr > screen[n-1]):\n",
    "                    screen[n-1] = curr\n",
    "             \n",
    "        return screen[N-1]\n",
    "\n",
    "if __name__ == '__main__':\n",
    "    t = int(input())\n",
    "    for _ in range(t):\n",
    "        N = int(input())\n",
    "        \n",
    "        ob = Solution()\n",
    "        print(ob.optimalKeys(N))"
   ]
  }
 ],
 "metadata": {
  "kernelspec": {
   "display_name": "Python 3",
   "language": "python",
   "name": "python3"
  },
  "language_info": {
   "codemirror_mode": {
    "name": "ipython",
    "version": 3
   },
   "file_extension": ".py",
   "mimetype": "text/x-python",
   "name": "python",
   "nbconvert_exporter": "python",
   "pygments_lexer": "ipython3",
   "version": "3.6.10"
  }
 },
 "nbformat": 4,
 "nbformat_minor": 4
}
