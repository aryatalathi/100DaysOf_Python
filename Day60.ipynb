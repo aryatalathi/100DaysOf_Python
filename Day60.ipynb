{
 "cells": [
  {
   "cell_type": "markdown",
   "metadata": {},
   "source": [
    "### Given binary string str of size N the task is to check if the given string is valid or not. A string is called valid if the number of 0's equals the number of 1's and at any moment starting from the left of the string number 0's must be greater than or equals to the number of 1's."
   ]
  },
  {
   "cell_type": "code",
   "execution_count": 1,
   "metadata": {},
   "outputs": [
    {
     "name": "stdout",
     "output_type": "stream",
     "text": [
      "2\n",
      "4\n",
      "0011\n",
      "yes\n",
      "3\n",
      "001\n",
      "no\n"
     ]
    }
   ],
   "source": [
    "t=int(input())\n",
    "while t>0:\n",
    "    n=int(input())\n",
    "    s=input()\n",
    "    p=[]\n",
    "    q=[]\n",
    "    c=0\n",
    "    for i in range(len(s)):\n",
    "        if len(p)>=len(q):\n",
    "            if s[i]=='0':\n",
    "                p.append(s[i])\n",
    "            else:\n",
    "                q.append(s[i])\n",
    "        else:\n",
    "            print(\"no\")\n",
    "            c=1\n",
    "            break\n",
    "    if c==0:\n",
    "        if len(p)==len(q):\n",
    "            print(\"yes\")\n",
    "        else:\n",
    "            print(\"no\")\n",
    "    t=t-1"
   ]
  }
 ],
 "metadata": {
  "kernelspec": {
   "display_name": "Python 3",
   "language": "python",
   "name": "python3"
  },
  "language_info": {
   "codemirror_mode": {
    "name": "ipython",
    "version": 3
   },
   "file_extension": ".py",
   "mimetype": "text/x-python",
   "name": "python",
   "nbconvert_exporter": "python",
   "pygments_lexer": "ipython3",
   "version": "3.6.10"
  }
 },
 "nbformat": 4,
 "nbformat_minor": 4
}
