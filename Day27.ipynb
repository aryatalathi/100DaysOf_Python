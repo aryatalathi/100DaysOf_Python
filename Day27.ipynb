{
 "cells": [
  {
   "cell_type": "markdown",
   "metadata": {},
   "source": [
    "### Selection Sort "
   ]
  },
  {
   "cell_type": "code",
   "execution_count": 3,
   "metadata": {},
   "outputs": [
    {
     "name": "stdout",
     "output_type": "stream",
     "text": [
      "2\n",
      "5\n",
      "4 3 9 7 1\n",
      "1 3 4 7 9 \n",
      "7\n",
      "1 8 2 7 6 4 33\n",
      "1 2 4 6 7 8 33 \n"
     ]
    }
   ],
   "source": [
    "\n",
    "def select(arr):\n",
    "    for i in range(len(arr)):\n",
    "        pos=i\n",
    "        for j in range(i,len(arr)):\n",
    "            if arr[j]<arr[pos]:\n",
    "                pos=j\n",
    "        (arr[i],arr[pos])=(arr[pos],arr[i])\n",
    "    return(arr)\n",
    "\n",
    "if __name__ == \"__main__\":\n",
    "    t=int(input())\n",
    "    for i in range(t):\n",
    "        n=int(input())\n",
    "        arr=list(map(int,input().split()))\n",
    "        select(arr)\n",
    "        for i in range(n):\n",
    "            print(arr[i],end=\" \")\n",
    "        print()"
   ]
  }
 ],
 "metadata": {
  "kernelspec": {
   "display_name": "Python 3",
   "language": "python",
   "name": "python3"
  },
  "language_info": {
   "codemirror_mode": {
    "name": "ipython",
    "version": 3
   },
   "file_extension": ".py",
   "mimetype": "text/x-python",
   "name": "python",
   "nbconvert_exporter": "python",
   "pygments_lexer": "ipython3",
   "version": "3.6.10"
  }
 },
 "nbformat": 4,
 "nbformat_minor": 4
}
