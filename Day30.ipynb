{
 "cells": [
  {
   "cell_type": "markdown",
   "metadata": {},
   "source": [
    "### Search in a row-column sorted Matrix\n",
    "#### Given a matrix of size n x m, where every row and column is sorted in increasing order, and a number x. Find whether element x is present in the matrix or not.\n"
   ]
  },
  {
   "cell_type": "code",
   "execution_count": 5,
   "metadata": {},
   "outputs": [
    {
     "name": "stdout",
     "output_type": "stream",
     "text": [
      "2\n",
      "3 3\n",
      "3 30 38 44 52 54 57 60 69\n",
      "62\n",
      "0\n",
      "1 6\n",
      "18 21 27 38 55 67\n",
      "55\n",
      "1\n"
     ]
    }
   ],
   "source": [
    "def search(matrix, n, m, x): \n",
    "    i,j=0,m-1\n",
    "    while i<n and j>=0:\n",
    "        if matrix[i][j]==x:\n",
    "            return 1\n",
    "        elif matrix[i][j]>x:\n",
    "            j-=1\n",
    "        else:\n",
    "            i+=1\n",
    "    return 0\n",
    "\n",
    "if __name__ == '__main__':\n",
    "    t = int(input())\n",
    "    for _ in range(t):\n",
    "        size = input().strip().split()\n",
    "        r = int(size[0])\n",
    "        c = int(size[1])\n",
    "        line = input().strip().split()\n",
    "        matrix = [ [0 for _ in range(c)] for _ in range(r) ]\n",
    "        for i in range(r):\n",
    "            for j in range(c):\n",
    "                matrix[i][j] = int( line[i*c+j] )\n",
    "        target = int(input())\n",
    "\n",
    "        if (search(matrix,r,c,target)): \n",
    "            print(1) \n",
    "        else: \n",
    "            print(0) "
   ]
  }
 ],
 "metadata": {
  "kernelspec": {
   "display_name": "Python 3",
   "language": "python",
   "name": "python3"
  },
  "language_info": {
   "codemirror_mode": {
    "name": "ipython",
    "version": 3
   },
   "file_extension": ".py",
   "mimetype": "text/x-python",
   "name": "python",
   "nbconvert_exporter": "python",
   "pygments_lexer": "ipython3",
   "version": "3.6.10"
  }
 },
 "nbformat": 4,
 "nbformat_minor": 4
}
