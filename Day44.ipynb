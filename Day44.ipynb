{
 "cells": [
  {
   "cell_type": "markdown",
   "metadata": {},
   "source": [
    "### Given a doubly linked list, rotate the linked list counter-clockwise by P nodes. Here P is a given positive integer and is smaller than the count of nodes(N) in a linked list."
   ]
  },
  {
   "cell_type": "code",
   "execution_count": 2,
   "metadata": {},
   "outputs": [
    {
     "name": "stdout",
     "output_type": "stream",
     "text": [
      "2\n",
      "8 5\n",
      "12 34 56 78 23 45 67 90\n",
      "45 67 90 12 34 56 78 23 \n",
      "6 2\n",
      "1 3 5 7 9 2\n",
      "5 7 9 2 1 3 \n"
     ]
    }
   ],
   "source": [
    "def update(llist, p):\n",
    "    \n",
    "    #finding tail of llist\n",
    "    \n",
    "    last=llist.head      \n",
    "    while last.next:\n",
    "        last=last.next\n",
    "    \n",
    "    #making circular ll\n",
    "    last.next=llist.head \n",
    "    new_last=last\n",
    "    \n",
    "    #shifting new_last and head 'p' position\n",
    "    for i in range(p):   \n",
    "        new_last=llist.head\n",
    "        llist.head=llist.head.next\n",
    "    \n",
    "    #breaking circular ll\n",
    "    new_last.next=None   \n",
    "    return llist\n",
    "    \n",
    "class Node:\n",
    "    def __init__(self, data):\n",
    "        self.data = data\n",
    "        self.next = None\n",
    "        self.prev = None\n",
    "\n",
    "class LinkedList:\n",
    "    def __init__(self):\n",
    "        self.head=None\n",
    "\n",
    "if __name__ == \"__main__\":\n",
    "    t = int(input())\n",
    "    while(t>0):\n",
    "        liston = [int(x) for x in input().strip().split()]\n",
    "        n = liston[0]\n",
    "        p = liston[1]\n",
    "        listto = [int(x) for x in input().strip().split()]\n",
    "        llist = LinkedList()\n",
    "        for i in range(n):\n",
    "            ptr = Node(listto[i])\n",
    "            if llist.head==None:\n",
    "                llist.head=ptr\n",
    "                cur=ptr\n",
    "            else:\n",
    "                cur.next = ptr\n",
    "                ptr.prev = cur\n",
    "                cur = ptr\n",
    "\n",
    "        New = update(llist, p)\n",
    "        temp = New.head\n",
    "        while temp:\n",
    "            print(temp.data, end=\" \")\n",
    "            temp=temp.next\n",
    "        print(\"\")\n",
    "        t=t-1"
   ]
  }
 ],
 "metadata": {
  "kernelspec": {
   "display_name": "Python 3",
   "language": "python",
   "name": "python3"
  },
  "language_info": {
   "codemirror_mode": {
    "name": "ipython",
    "version": 3
   },
   "file_extension": ".py",
   "mimetype": "text/x-python",
   "name": "python",
   "nbconvert_exporter": "python",
   "pygments_lexer": "ipython3",
   "version": "3.6.10"
  }
 },
 "nbformat": 4,
 "nbformat_minor": 4
}
