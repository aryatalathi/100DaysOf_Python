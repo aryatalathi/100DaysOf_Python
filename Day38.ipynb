{
 "cells": [
  {
   "cell_type": "markdown",
   "metadata": {},
   "source": [
    "### Josephus problem\n",
    "#### Given the total number of persons n and a number k which indicates that k-1 persons are skipped and kth person is killed in circle in a fixed direction. The task is to choose the safe place in the circle so that when you perform these operations starting from 1st place in the circle, you are the last one remaining and survive."
   ]
  },
  {
   "cell_type": "code",
   "execution_count": 3,
   "metadata": {},
   "outputs": [
    {
     "name": "stdout",
     "output_type": "stream",
     "text": [
      "2\n",
      "3 2\n",
      "3\n",
      "5 3\n",
      "4\n"
     ]
    }
   ],
   "source": [
    "def josephus(n,k):\n",
    "    if (n==1):\n",
    "        return 1\n",
    "    else:\n",
    "        return (josephus(n - 1, k) + k-1) % n + 1\n",
    "    \n",
    "def main():\n",
    "    \n",
    "    T=int(input())\n",
    "    \n",
    "    while(T>0):\n",
    "        \n",
    "        \n",
    "        nk=[int(x) for x in input().strip().split()]\n",
    "        n=nk[0]\n",
    "        k=nk[1]\n",
    "        \n",
    "        print(josephus(n,k))\n",
    "        \n",
    "        T-=1\n",
    "\n",
    "if __name__==\"__main__\":\n",
    "    main()"
   ]
  }
 ],
 "metadata": {
  "kernelspec": {
   "display_name": "Python 3",
   "language": "python",
   "name": "python3"
  },
  "language_info": {
   "codemirror_mode": {
    "name": "ipython",
    "version": 3
   },
   "file_extension": ".py",
   "mimetype": "text/x-python",
   "name": "python",
   "nbconvert_exporter": "python",
   "pygments_lexer": "ipython3",
   "version": "3.6.10"
  }
 },
 "nbformat": 4,
 "nbformat_minor": 4
}
