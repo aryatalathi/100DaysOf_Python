{
 "cells": [
  {
   "cell_type": "markdown",
   "metadata": {},
   "source": [
    "### Given a point on x axis, (N,0), you are standing at origin and you can only move on x-axis. Lets say you are at (x,0), at each step you can either move one step forward ie (x+1,0) or one step backwards (x-1,0) or make a jump to double your current position (2*x,0). One step movement costs you A while a jump costs you B. If your initial position is (0,0) , find the minimum cost to reach (N,0) ."
   ]
  },
  {
   "cell_type": "code",
   "execution_count": 1,
   "metadata": {},
   "outputs": [
    {
     "name": "stdout",
     "output_type": "stream",
     "text": [
      "2\n",
      "7 1 100\n",
      "7\n",
      "8 2 4\n",
      "12\n"
     ]
    }
   ],
   "source": [
    "class Solution:\n",
    "    def optimalWalk(self, N, A, B):\n",
    "        dp = [0]*(N+1)\n",
    "        \n",
    "        dp[0] = 0\n",
    "        dp[1] = A\n",
    "        \n",
    "        for i in range(2, N+1):\n",
    "            dp[i] = min(A+dp[i-1], dp[(i+1)//2]+B+(i%2)*A)\n",
    "        \n",
    "        return dp[N]\n",
    "    \n",
    "if __name__ == '__main__':\n",
    "    t = int(input())\n",
    "    for _ in range(t):\n",
    "        N, A, B = [int(x) for x in input().split()]\n",
    "        \n",
    "        ob = Solution()\n",
    "        print(ob.optimalWalk(N, A, B))"
   ]
  }
 ],
 "metadata": {
  "kernelspec": {
   "display_name": "Python 3",
   "language": "python",
   "name": "python3"
  },
  "language_info": {
   "codemirror_mode": {
    "name": "ipython",
    "version": 3
   },
   "file_extension": ".py",
   "mimetype": "text/x-python",
   "name": "python",
   "nbconvert_exporter": "python",
   "pygments_lexer": "ipython3",
   "version": "3.6.10"
  }
 },
 "nbformat": 4,
 "nbformat_minor": 4
}
