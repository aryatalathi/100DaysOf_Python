{
 "cells": [
  {
   "cell_type": "markdown",
   "metadata": {},
   "source": [
    "### Given two linked lists of size N and M, which are sorted in non-decreasing order. The task is to merge them in such a way that the resulting list is in decreasing order."
   ]
  },
  {
   "cell_type": "code",
   "execution_count": 1,
   "metadata": {},
   "outputs": [
    {
     "name": "stdout",
     "output_type": "stream",
     "text": [
      "2\n",
      "4 3\n",
      "5 10 15 60\n",
      "34 67 90\n",
      "90 67 60 34 15 10 5 \n",
      "7 4\n",
      "12 45 78 23 45 89 67\n",
      "2 4 8 56\n",
      "67 89 45 23 78 56 45 12 8 4 2 \n"
     ]
    }
   ],
   "source": [
    "def mergeResult(h1,h2):\n",
    "    #return head of merged list\n",
    "    if(h1==None and h2==None):\n",
    "        return None\n",
    "        \n",
    "    res=None\n",
    "    while(h1!=None and h2!=None):\n",
    "        if(h1.data<=h2.data):\n",
    "            temp = h1.next\n",
    "            h1.next = res\n",
    "            res = h1\n",
    "            h1 = temp\n",
    "        else:\n",
    "            temp = h2.next\n",
    "            h2.next = res\n",
    "            res = h2\n",
    "            h2 = temp\n",
    "    while(h1!=None):\n",
    "        temp = h1.next\n",
    "        h1.next = res\n",
    "        res = h1\n",
    "        h1 = temp\n",
    "    while(h2!=None):\n",
    "        temp = h2.next\n",
    "        h2.next = res\n",
    "        res = h2\n",
    "        h2 = temp\n",
    "    return res\n",
    "\n",
    "class Node:\n",
    "    def __init__(self,data):\n",
    "        self.data=data\n",
    "        self.next=None\n",
    "\n",
    "class Llist:\n",
    "    def __init__(self):\n",
    "        self.head=None\n",
    "    \n",
    "    def insert(self,data,tail):\n",
    "        node=Node(data)\n",
    "        \n",
    "        if not self.head:\n",
    "            self.head=node\n",
    "            return node\n",
    "        \n",
    "        tail.next=node\n",
    "        return node\n",
    "        \n",
    "\n",
    "def printList(head):\n",
    "    while head:\n",
    "        print(head.data,end=' ')\n",
    "        head=head.next\n",
    "        \n",
    "if __name__ == '__main__':\n",
    "    t=int(input())\n",
    "    \n",
    "    for tcs in range(t):\n",
    "        \n",
    "        n1,n2=[int(x) for x in input().split()]\n",
    "        \n",
    "        arr1=[int(x) for x in input().split()]\n",
    "        ll1=Llist()\n",
    "        tail=None\n",
    "        for nodeData in arr1:\n",
    "            tail=ll1.insert(nodeData,tail)\n",
    "            \n",
    "            \n",
    "        arr2=[int(x) for x in input().split()]\n",
    "        ll2=Llist()\n",
    "        tail=None\n",
    "        for nodeData in arr2:\n",
    "            tail=ll2.insert(nodeData,tail)\n",
    "        \n",
    "        \n",
    "        resHead=mergeResult(ll1.head,ll2.head)\n",
    "        printList(resHead)\n",
    "        print()"
   ]
  }
 ],
 "metadata": {
  "kernelspec": {
   "display_name": "Python 3",
   "language": "python",
   "name": "python3"
  },
  "language_info": {
   "codemirror_mode": {
    "name": "ipython",
    "version": 3
   },
   "file_extension": ".py",
   "mimetype": "text/x-python",
   "name": "python",
   "nbconvert_exporter": "python",
   "pygments_lexer": "ipython3",
   "version": "3.6.10"
  }
 },
 "nbformat": 4,
 "nbformat_minor": 4
}
