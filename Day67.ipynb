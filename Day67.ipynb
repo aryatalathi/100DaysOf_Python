{
 "cells": [
  {
   "cell_type": "markdown",
   "metadata": {},
   "source": [
    "### Given an array a of integers of length n, find the nearest smaller number for every element such that the smaller element is on left side.If no small element present on the left print -1."
   ]
  },
  {
   "cell_type": "code",
   "execution_count": 3,
   "metadata": {},
   "outputs": [
    {
     "name": "stdout",
     "output_type": "stream",
     "text": [
      "2\n",
      "3\n",
      "1 6 2\n",
      "-1 1 1\n",
      "6\n",
      "1 5 0 3 4 5\n",
      "-1 1 -1 0 3 4\n"
     ]
    }
   ],
   "source": [
    "t=int(input())\n",
    "for i in range(t):\n",
    "    n=int(input())\n",
    "    a=list(map(int,input().split()))\n",
    "    b=[-1]\n",
    "    count=1\n",
    "    for i in range(1,n):\n",
    "        j=i-1\n",
    "        c=0\n",
    "        while(c==0 and j>-1):\n",
    "            if a[i]>a[j]:\n",
    "                b.append(a[j])\n",
    "                c=1\n",
    "                break\n",
    "            j-=1\n",
    "            if j==-1:\n",
    "                b.append(-1)\n",
    "            \n",
    "    print(\" \".join(map(str,b)))"
   ]
  }
 ],
 "metadata": {
  "kernelspec": {
   "display_name": "Python 3",
   "language": "python",
   "name": "python3"
  },
  "language_info": {
   "codemirror_mode": {
    "name": "ipython",
    "version": 3
   },
   "file_extension": ".py",
   "mimetype": "text/x-python",
   "name": "python",
   "nbconvert_exporter": "python",
   "pygments_lexer": "ipython3",
   "version": "3.6.10"
  }
 },
 "nbformat": 4,
 "nbformat_minor": 4
}
