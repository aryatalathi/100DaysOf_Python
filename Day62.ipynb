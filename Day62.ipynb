{
 "cells": [
  {
   "cell_type": "markdown",
   "metadata": {},
   "source": [
    "### Implement a Stack using two queues q1 and q2."
   ]
  },
  {
   "cell_type": "code",
   "execution_count": 1,
   "metadata": {},
   "outputs": [
    {
     "name": "stdout",
     "output_type": "stream",
     "text": [
      "1\n",
      "2\n",
      "1 2 1 3 2 1 4 2\n",
      "3 4 \n"
     ]
    }
   ],
   "source": [
    "#Function to push an element into stack using two queues.\n",
    "def push(x):\n",
    "    \n",
    "    # global declaration\n",
    "    global queue_1\n",
    "    global queue_2\n",
    "    \n",
    "    queue_2.append(x)\n",
    "    while queue_1:\n",
    "        queue_2.append(queue_1[0])\n",
    "        queue_1.pop(0)\n",
    "    queue_1,queue_2=queue_2,queue_1\n",
    "\n",
    "\n",
    "#Function to pop an element from stack using two queues.     \n",
    "def pop():\n",
    "    \n",
    "    # global declaration\n",
    "    global queue_1\n",
    "    global queue_2\n",
    "    \n",
    "    if queue_1:\n",
    "        return queue_1.pop(0)\n",
    "    else:\n",
    "        return -1\n",
    "    \n",
    "import atexit\n",
    "import io\n",
    "import sys\n",
    "\n",
    "queue_1 = [] # first queue\n",
    "queue_2 = [] # second queue\n",
    "\n",
    "if __name__ == '__main__':\n",
    "    test_cases = int(input())\n",
    "    for cases in range(test_cases) :\n",
    "        n = int(input())\n",
    "        a = list(map(int,input().strip().split()))\n",
    "        i = 0\n",
    "        while i<len(a):\n",
    "            if a[i] == 1:\n",
    "                push(a[i+1])\n",
    "                i+=1\n",
    "            else:\n",
    "                print(pop(),end=\" \")\n",
    "            i+=1\n",
    "\n",
    "        # clear both the queues\n",
    "        queue_1 = []\n",
    "        queue_2 = []\n",
    "        print()"
   ]
  }
 ],
 "metadata": {
  "kernelspec": {
   "display_name": "Python 3",
   "language": "python",
   "name": "python3"
  },
  "language_info": {
   "codemirror_mode": {
    "name": "ipython",
    "version": 3
   },
   "file_extension": ".py",
   "mimetype": "text/x-python",
   "name": "python",
   "nbconvert_exporter": "python",
   "pygments_lexer": "ipython3",
   "version": "3.6.10"
  }
 },
 "nbformat": 4,
 "nbformat_minor": 4
}
