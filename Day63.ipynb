{
 "cells": [
  {
   "cell_type": "markdown",
   "metadata": {},
   "source": [
    "### Given a string S, composed of different combinations of '(' , ')', '{', '}', '[', ']'. The task is to verify the validity of the arrangement."
   ]
  },
  {
   "cell_type": "code",
   "execution_count": 1,
   "metadata": {},
   "outputs": [
    {
     "name": "stdout",
     "output_type": "stream",
     "text": [
      "2\n",
      "()[]{}\n",
      "1\n",
      "((((((({}{})))\n",
      "0\n"
     ]
    }
   ],
   "source": [
    "class Solution:\n",
    "    def valid(self, s): \n",
    "        #code here\n",
    "        l=['()','{}','[]']\n",
    "        while any(x in s for x in l):\n",
    "            for i in l:\n",
    "                s=s.replace(i,'')\n",
    "        if len(s)>0:\n",
    "            return 0\n",
    "        return 1\n",
    "\n",
    "if __name__ == '__main__': \n",
    "    t = int(input())\n",
    "    for _ in range(t):\n",
    "        s = input().strip()\n",
    "        ob = Solution()\n",
    "        if ob.valid(s):\n",
    "            print(1)\n",
    "        else:\n",
    "            print(0)"
   ]
  }
 ],
 "metadata": {
  "kernelspec": {
   "display_name": "Python 3",
   "language": "python",
   "name": "python3"
  },
  "language_info": {
   "codemirror_mode": {
    "name": "ipython",
    "version": 3
   },
   "file_extension": ".py",
   "mimetype": "text/x-python",
   "name": "python",
   "nbconvert_exporter": "python",
   "pygments_lexer": "ipython3",
   "version": "3.6.10"
  }
 },
 "nbformat": 4,
 "nbformat_minor": 4
}
