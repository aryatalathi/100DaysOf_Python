{
 "cells": [
  {
   "cell_type": "markdown",
   "metadata": {},
   "source": [
    "### You are given n days and for each day (di) you can select one of the following options:\n",
    "\n",
    "#### 1.perform no task \n",
    "#### 2.perform a high effort task (hi) only if its the first day or if you chose no-task on the previous day\n",
    "#### 3.perform a low effort task (li)\n",
    "### Write a program to find the maximum amount of tasks you can perform within these n days. "
   ]
  },
  {
   "cell_type": "code",
   "execution_count": 1,
   "metadata": {},
   "outputs": [
    {
     "name": "stdout",
     "output_type": "stream",
     "text": [
      "1\n",
      "3\n",
      "2 8 1\n",
      "1 2 1\n",
      "9\n"
     ]
    }
   ],
   "source": [
    "class Solution:\n",
    "    def maxAmt(self, n, hi, li): \n",
    "        first = 0\n",
    "        second = hi[0]\n",
    "            \n",
    "        for i in range(1, n):\n",
    "            first = max(first + hi[i], second + li[i])\n",
    "            #swap(first, second)\n",
    "            temp = first\n",
    "            first = second\n",
    "            second = temp\n",
    "            \n",
    "        return max(first, second) \n",
    "\n",
    "if __name__ == '__main__': \n",
    "    t = int(input())\n",
    "    for _ in range(t):\n",
    "        n = int(input())\n",
    "        hi = list(map(int, input().strip().split()))\n",
    "        li = list(map(int, input().strip().split()))\n",
    "        ob = Solution()\n",
    "        print(ob.maxAmt(n,hi,li))"
   ]
  }
 ],
 "metadata": {
  "kernelspec": {
   "display_name": "Python 3",
   "language": "python",
   "name": "python3"
  },
  "language_info": {
   "codemirror_mode": {
    "name": "ipython",
    "version": 3
   },
   "file_extension": ".py",
   "mimetype": "text/x-python",
   "name": "python",
   "nbconvert_exporter": "python",
   "pygments_lexer": "ipython3",
   "version": "3.6.10"
  }
 },
 "nbformat": 4,
 "nbformat_minor": 4
}
