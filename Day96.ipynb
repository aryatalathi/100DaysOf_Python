{
 "cells": [
  {
   "cell_type": "markdown",
   "metadata": {},
   "source": [
    "### Knapsack with Duplicate items\n",
    "#### Given a set of N items, each with a weight and a value, and a weight limit W. Find the maximum value of a collection containing any of the N items any number of times so that the total weight is less than or equal to W."
   ]
  },
  {
   "cell_type": "code",
   "execution_count": 1,
   "metadata": {},
   "outputs": [
    {
     "name": "stdout",
     "output_type": "stream",
     "text": [
      "2\n",
      "2 3\n",
      "1 1\n",
      "2 1\n",
      "3\n",
      "4 8\n",
      "1 4 5 7\n",
      "1 3 4 5\n",
      "11\n"
     ]
    }
   ],
   "source": [
    "class Solution:\n",
    "    def knapSack(self, N, W, val, wt):\n",
    "        dp = [0 for i in range(W+1)]\n",
    "        \n",
    "        for i in range(W+1):\n",
    "            for j in range(N):\n",
    "                if wt[j]<=i:\n",
    "                    dp[i] = max(dp[i],dp[i-wt[j]]+val[j])\n",
    "        return dp[W]\n",
    "\n",
    "if __name__ == '__main__':\n",
    "    t = int(input())\n",
    "    for _ in range(t):\n",
    "        N, W = [int(x) for x in input().split()]\n",
    "        val = input().split()\n",
    "        for itr in range(N):\n",
    "            val[itr] = int(val[itr])\n",
    "        wt = input().split()\n",
    "        for it in range(N):\n",
    "            wt[it] = int(wt[it])\n",
    "        \n",
    "        ob = Solution()\n",
    "        print(ob.knapSack(N, W, val, wt))"
   ]
  }
 ],
 "metadata": {
  "kernelspec": {
   "display_name": "Python 3",
   "language": "python",
   "name": "python3"
  },
  "language_info": {
   "codemirror_mode": {
    "name": "ipython",
    "version": 3
   },
   "file_extension": ".py",
   "mimetype": "text/x-python",
   "name": "python",
   "nbconvert_exporter": "python",
   "pygments_lexer": "ipython3",
   "version": "3.6.10"
  }
 },
 "nbformat": 4,
 "nbformat_minor": 4
}
