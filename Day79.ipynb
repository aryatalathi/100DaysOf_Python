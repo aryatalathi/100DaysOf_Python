{
 "cells": [
  {
   "cell_type": "markdown",
   "metadata": {},
   "source": [
    "### Given two strings str1 and str2. The task is to remove or insert the minimum number of characters from/in str1 so as to transform it into str2. It could be possible that the same character needs to be removed/deleted from one point of str1 and inserted to some another point."
   ]
  },
  {
   "cell_type": "code",
   "execution_count": 1,
   "metadata": {},
   "outputs": [
    {
     "name": "stdout",
     "output_type": "stream",
     "text": [
      "1\n",
      "heap pea\n",
      "3\n"
     ]
    }
   ],
   "source": [
    "class Solution:\n",
    "    def minOperations(self, s1, s2):\n",
    "        n = len(s1)+1\n",
    "        m = len(s2)+1\n",
    "        dp = [[0]*m for _ in range(n)]\n",
    "        for i in range(1,n):\n",
    "            for j in range(1, m):\n",
    "                if s1[i-1] == s2[j-1]:\n",
    "                    dp[i][j] = 1+dp[i-1][j-1]\n",
    "                else:\n",
    "                    dp[i][j] = max(dp[i-1][j], dp[i][j-1])\n",
    "        lcs = dp[-1][-1]\n",
    "        res = len(s1)-lcs + len(s2)-lcs\n",
    "        return res\n",
    "\n",
    "if __name__ == '__main__':\n",
    "    T=int(input())\n",
    "    for i in range(T):\n",
    "        s1,s2 = input().split()\n",
    "        ob = Solution()\n",
    "        ans = ob.minOperations(s1,s2)\n",
    "        print(ans)"
   ]
  }
 ],
 "metadata": {
  "kernelspec": {
   "display_name": "Python 3",
   "language": "python",
   "name": "python3"
  },
  "language_info": {
   "codemirror_mode": {
    "name": "ipython",
    "version": 3
   },
   "file_extension": ".py",
   "mimetype": "text/x-python",
   "name": "python",
   "nbconvert_exporter": "python",
   "pygments_lexer": "ipython3",
   "version": "3.6.10"
  }
 },
 "nbformat": 4,
 "nbformat_minor": 4
}
