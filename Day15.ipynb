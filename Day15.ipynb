{
 "cells": [
  {
   "cell_type": "markdown",
   "metadata": {},
   "source": [
    "### Given an unsorted array arr[] of n positive integers. Find the number of triangles that can be formed with three different array elements as lengths of three sides of triangles. "
   ]
  },
  {
   "cell_type": "code",
   "execution_count": 1,
   "metadata": {},
   "outputs": [
    {
     "name": "stdout",
     "output_type": "stream",
     "text": [
      "2\n",
      "3\n",
      "3 4 5\n",
      "1\n",
      "5\n",
      "6 4 8 9 7\n",
      "10\n"
     ]
    }
   ],
   "source": [
    "class Solution:\n",
    "    def findNumberOfTriangles(ob, arr, n):\n",
    "        count=0\n",
    "        arr = sorted(arr)\n",
    "        for i in range(0,n-2):\n",
    "            k = i+2\n",
    "            for j in range(i+1,n):\n",
    "                while (k<n and arr[i]+arr[j]>arr[k]):\n",
    "                    k = k+1\n",
    "                if (k>j):\n",
    "                    count=count+k-j-1\n",
    "        return count\n",
    "\n",
    "if __name__ == '__main__': \n",
    "    t = int (input ())\n",
    "    for _ in range (t):\n",
    "        n = int(input())\n",
    "        arr = list(map(int, input().strip().split()))\n",
    "        ob = Solution()\n",
    "        print(ob.findNumberOfTriangles(arr,n))"
   ]
  }
 ],
 "metadata": {
  "kernelspec": {
   "display_name": "Python 3",
   "language": "python",
   "name": "python3"
  },
  "language_info": {
   "codemirror_mode": {
    "name": "ipython",
    "version": 3
   },
   "file_extension": ".py",
   "mimetype": "text/x-python",
   "name": "python",
   "nbconvert_exporter": "python",
   "pygments_lexer": "ipython3",
   "version": "3.6.10"
  }
 },
 "nbformat": 4,
 "nbformat_minor": 4
}
