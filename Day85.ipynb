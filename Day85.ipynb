{
 "cells": [
  {
   "cell_type": "markdown",
   "metadata": {},
   "source": [
    "### There are N points on the road ,you can step ahead by 1 or 2 . Find the number of ways you can reach at point N. "
   ]
  },
  {
   "cell_type": "code",
   "execution_count": 4,
   "metadata": {},
   "outputs": [
    {
     "name": "stdout",
     "output_type": "stream",
     "text": [
      "2\n",
      "4\n",
      "5\n",
      "5\n",
      "8\n"
     ]
    }
   ],
   "source": [
    "class Solution:\n",
    "    def nthPoint(self,n):\n",
    "        a = 1\n",
    "        b = 2\n",
    "        mod = 1000000007\n",
    "            \n",
    "        if(n==1):\n",
    "            return 1\n",
    "            \n",
    "        if(n==2):\n",
    "            return 2\n",
    "            \n",
    "        for i in range(3,n+1):\n",
    "            c = (a+b) % mod\n",
    "                \n",
    "            a = b % mod\n",
    "            b = c % mod\n",
    "            \n",
    "            \n",
    "        return c \n",
    "\n",
    "if __name__ == '__main__':\n",
    "    T=int(input())\n",
    "    for i in range(T):\n",
    "        n = int(input())\n",
    "        ob = Solution();\n",
    "        ans = ob.nthPoint(n)\n",
    "        print(ans)"
   ]
  }
 ],
 "metadata": {
  "kernelspec": {
   "display_name": "Python 3",
   "language": "python",
   "name": "python3"
  },
  "language_info": {
   "codemirror_mode": {
    "name": "ipython",
    "version": 3
   },
   "file_extension": ".py",
   "mimetype": "text/x-python",
   "name": "python",
   "nbconvert_exporter": "python",
   "pygments_lexer": "ipython3",
   "version": "3.6.10"
  }
 },
 "nbformat": 4,
 "nbformat_minor": 4
}
