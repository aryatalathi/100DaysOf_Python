{
 "cells": [
  {
   "cell_type": "markdown",
   "metadata": {},
   "source": [
    "### Given an array of digits (values are from 0 to 9), find the minimum possible sum of two numbers formed from digits of the array. All digits of given array must be used to form the two numbers."
   ]
  },
  {
   "cell_type": "code",
   "execution_count": 1,
   "metadata": {},
   "outputs": [
    {
     "name": "stdout",
     "output_type": "stream",
     "text": [
      "1\n",
      "6\n",
      "6 8 4 5 2 3\n",
      "604\n"
     ]
    }
   ],
   "source": [
    "class Solution:\n",
    "    def minSum(self, arr, n):\n",
    "        arr = sorted(arr)\n",
    "        num1, num2 = 0, 0\n",
    "         \n",
    "        for i in range(n):\n",
    "            if i % 2 == 0:\n",
    "                num1 = num1 * 10 + arr[i]\n",
    "            else:\n",
    "                num2 = num2 * 10 + arr[i]\n",
    "         \n",
    "        return num2 + num1      \n",
    "\n",
    "import heapq as hq\n",
    "\n",
    "if __name__ == '__main__':\n",
    "    T = int(input())\n",
    "\n",
    "    for tcs in range(T):\n",
    "        n = int(input())\n",
    "        arr = [int(x) for x in input().split()]\n",
    "        ob=Solution()\n",
    "        print(ob.minSum(arr,n))"
   ]
  }
 ],
 "metadata": {
  "kernelspec": {
   "display_name": "Python 3",
   "language": "python",
   "name": "python3"
  },
  "language_info": {
   "codemirror_mode": {
    "name": "ipython",
    "version": 3
   },
   "file_extension": ".py",
   "mimetype": "text/x-python",
   "name": "python",
   "nbconvert_exporter": "python",
   "pygments_lexer": "ipython3",
   "version": "3.6.10"
  }
 },
 "nbformat": 4,
 "nbformat_minor": 4
}
