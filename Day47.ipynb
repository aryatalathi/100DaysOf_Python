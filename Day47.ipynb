{
 "cells": [
  {
   "cell_type": "markdown",
   "metadata": {},
   "source": [
    "### Rearrange linked list in-place \n",
    "#### Given a singly linked list L0 -> L1 -> … -> Ln-1 -> Ln. Rearrange the nodes in the list so that the new formed list is: L0 -> Ln -> L1 -> Ln-1 -> L2 -> Ln-2."
   ]
  },
  {
   "cell_type": "code",
   "execution_count": 1,
   "metadata": {},
   "outputs": [
    {
     "name": "stdout",
     "output_type": "stream",
     "text": [
      "2\n",
      "4 \n",
      "1 2 3 4\n",
      "1 4 2 3 \n",
      "6 \n",
      "23 45 67 12 34 56 \n",
      "23 56 45 34 67 12 \n"
     ]
    }
   ],
   "source": [
    "\n",
    "def inPlace(root):\n",
    "    #code here\n",
    "    if(root == None or root.next == None):\n",
    "        return root\n",
    "    \n",
    "    #To get the last previous node\n",
    "    temp = root\n",
    "    while(temp.next.next != None):\n",
    "        temp = temp.next\n",
    "    \n",
    "    #Holding the last node\n",
    "    left = temp.next\n",
    "    temp.next = None\n",
    "    \n",
    "    #Recursive calls to get the next nodes\n",
    "    toattach = inPlace(root.next)\n",
    "    root.next = left\n",
    "    left.next = toattach\n",
    "    return root\n",
    "\n",
    "#{ \n",
    "#  Driver Code Starts\n",
    "#Initial Template for Python 3\n",
    "\n",
    "#contributed by RavinderSinghPB\n",
    "class Node:\n",
    "    def __init__(self, data):\n",
    "        self.data = data\n",
    "        self.next = None\n",
    "\n",
    "\n",
    "class Llist:\n",
    "    def __init__(self):\n",
    "        self.head = None\n",
    "\n",
    "    def insert(self, data, tail):\n",
    "        node = Node(data)\n",
    "\n",
    "        if not self.head:\n",
    "            self.head = node\n",
    "            return node\n",
    "\n",
    "        tail.next = node\n",
    "        return node\n",
    "\n",
    "\n",
    "def printList(head):\n",
    "    tmp = head\n",
    "    while tmp != None:\n",
    "        print(tmp.data, end=\" \")\n",
    "        tmp = tmp.next\n",
    "    print()\n",
    "\n",
    "\n",
    "if __name__ == '__main__':\n",
    "    t = int(input())\n",
    "\n",
    "    for tcs in range(t):\n",
    "\n",
    "        n = int(input())\n",
    "        arr = [int(x) for x in input().split()]\n",
    "\n",
    "        ll = Llist()\n",
    "        tail = None\n",
    "\n",
    "        for nodeData in arr:\n",
    "            tail = ll.insert(nodeData, tail)\n",
    "\n",
    "        res = inPlace(ll.head)\n",
    "        printList(res)\n",
    "# } Driver Code Ends"
   ]
  }
 ],
 "metadata": {
  "kernelspec": {
   "display_name": "Python 3",
   "language": "python",
   "name": "python3"
  },
  "language_info": {
   "codemirror_mode": {
    "name": "ipython",
    "version": 3
   },
   "file_extension": ".py",
   "mimetype": "text/x-python",
   "name": "python",
   "nbconvert_exporter": "python",
   "pygments_lexer": "ipython3",
   "version": "3.6.10"
  }
 },
 "nbformat": 4,
 "nbformat_minor": 4
}
