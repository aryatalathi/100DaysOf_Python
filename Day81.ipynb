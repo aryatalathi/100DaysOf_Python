{
 "cells": [
  {
   "cell_type": "markdown",
   "metadata": {},
   "source": [
    "### Minimum Cost To Make Two Strings Identical \n",
    "#### Given two strings X and Y, and two values costX and costY, the task is to find the minimum cost required to make the given two strings identical. You can delete characters from both the strings. The cost of deleting a character from string X is costX and from Y is costY. The cost of removing all characters from a string is the same."
   ]
  },
  {
   "cell_type": "code",
   "execution_count": 2,
   "metadata": {},
   "outputs": [
    {
     "name": "stdout",
     "output_type": "stream",
     "text": [
      "2\n",
      "abcd acdb 10 20\n",
      "30\n",
      "ef gh 10 20\n",
      "60\n"
     ]
    }
   ],
   "source": [
    "class Solution:\n",
    "    def findMinCost(self, X, Y, costX, costY):\n",
    "        n = len(X)\n",
    "        m = len(Y)\n",
    "        dp = [[0 for _ in range(m+1)] for _ in range(n+1)]\n",
    "        for i in range(1,n+1):\n",
    "            for j in range(1,m+1):\n",
    "                if X[i-1] == Y[j-1]:\n",
    "                    dp[i][j] = dp[i-1][j-1] + 1\n",
    "                else:\n",
    "                    dp[i][j] = max(dp[i][j-1],dp[i-1][j])\n",
    "        return (n-dp[n][m])*costX + (m - dp[n][m])*costY            \n",
    "\n",
    "if __name__ == '__main__':\n",
    "    T=int(input())\n",
    "    for i in range(T):\n",
    "        X,Y,costX,costY = input().split()\n",
    "        costX = int(costX)\n",
    "        costY = int(costY)\n",
    "        ob = Solution()\n",
    "        ans = ob.findMinCost(X,Y,costX,costY)\n",
    "        print(ans)"
   ]
  }
 ],
 "metadata": {
  "kernelspec": {
   "display_name": "Python 3",
   "language": "python",
   "name": "python3"
  },
  "language_info": {
   "codemirror_mode": {
    "name": "ipython",
    "version": 3
   },
   "file_extension": ".py",
   "mimetype": "text/x-python",
   "name": "python",
   "nbconvert_exporter": "python",
   "pygments_lexer": "ipython3",
   "version": "3.6.10"
  }
 },
 "nbformat": 4,
 "nbformat_minor": 4
}
