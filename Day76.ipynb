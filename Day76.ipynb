{
 "cells": [
  {
   "cell_type": "markdown",
   "metadata": {},
   "source": [
    "### Reverse First K elements of Queue :\n",
    "#### Only following standard operations are allowed on queue.\n",
    "\n",
    "#### enqueue(x) : Add an item x to rear of queue\n",
    "#### dequeue() : Remove an item from front of queue\n",
    "#### size() : Returns number of elements in queue.\n",
    "#### front() : Finds front item."
   ]
  },
  {
   "cell_type": "code",
   "execution_count": 1,
   "metadata": {},
   "outputs": [
    {
     "name": "stdout",
     "output_type": "stream",
     "text": [
      "1\n",
      "5 3\n",
      "4 5 3 2 1\n",
      "3 5 4 2 1\n"
     ]
    }
   ],
   "source": [
    "def modifyQueue(q,k):\n",
    "    s = a[:(k)]\n",
    "    q1 = s[::-1]+a[k:]\n",
    "    \n",
    "    return(q1)\n",
    "\n",
    "def write():\n",
    "    sys.__stdout__.write(_OUTPUT_BUFFER.getvalue())\n",
    "\n",
    "if __name__ == '__main__':\n",
    "    test_cases = int(input())\n",
    "    for cases in range(test_cases) :\n",
    "        n,k = map(int,input().strip().split())\n",
    "        a = list(map(int,input().strip().split()))\n",
    "\n",
    "        queue = [] # our queue to be used\n",
    "        for i in range(n):\n",
    "            queue.append(a[i]) # enqueue elements of array in our queue\n",
    "\n",
    "        print(*modifyQueue(queue,k))"
   ]
  }
 ],
 "metadata": {
  "kernelspec": {
   "display_name": "Python 3",
   "language": "python",
   "name": "python3"
  },
  "language_info": {
   "codemirror_mode": {
    "name": "ipython",
    "version": 3
   },
   "file_extension": ".py",
   "mimetype": "text/x-python",
   "name": "python",
   "nbconvert_exporter": "python",
   "pygments_lexer": "ipython3",
   "version": "3.6.10"
  }
 },
 "nbformat": 4,
 "nbformat_minor": 4
}
