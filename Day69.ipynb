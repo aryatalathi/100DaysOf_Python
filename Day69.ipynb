{
 "cells": [
  {
   "cell_type": "markdown",
   "metadata": {},
   "source": [
    "### Given a mathematical equation using numbers/variables and +, -, *, /. Print the equation in reverse."
   ]
  },
  {
   "cell_type": "code",
   "execution_count": 3,
   "metadata": {},
   "outputs": [
    {
     "name": "stdout",
     "output_type": "stream",
     "text": [
      "2\n",
      "3+5-2*6\n",
      "6*2-5+3\n",
      "a*b-c+d\n",
      "d+c-b*a\n"
     ]
    }
   ],
   "source": [
    "import re\n",
    "class Solution:\n",
    "    def reverseEqn(self, s):\n",
    "        # code here\n",
    "        symbols=[]\n",
    "        for char in s:\n",
    "            if char in \"+-*/\":\n",
    "                symbols.append(char)\n",
    "                \n",
    "        \n",
    "            \n",
    "        arr= re.compile(\"\\+|-|\\*|/\").split(s)\n",
    "        arr.reverse()\n",
    "        \n",
    "        \n",
    "        result=\"\"\n",
    "        for i in arr:\n",
    "            result+=i\n",
    "            if len(symbols)>0:\n",
    "                result+=symbols.pop()\n",
    "        \n",
    "        return result\n",
    "            \n",
    "if __name__ == '__main__':\n",
    "    t = int(input())\n",
    "    for _ in range(t):\n",
    "        s = input().strip()\n",
    "        ob = Solution()\n",
    "        ans = ob.reverseEqn(s)\n",
    "        print(ans)"
   ]
  }
 ],
 "metadata": {
  "kernelspec": {
   "display_name": "Python 3",
   "language": "python",
   "name": "python3"
  },
  "language_info": {
   "codemirror_mode": {
    "name": "ipython",
    "version": 3
   },
   "file_extension": ".py",
   "mimetype": "text/x-python",
   "name": "python",
   "nbconvert_exporter": "python",
   "pygments_lexer": "ipython3",
   "version": "3.6.10"
  }
 },
 "nbformat": 4,
 "nbformat_minor": 4
}
