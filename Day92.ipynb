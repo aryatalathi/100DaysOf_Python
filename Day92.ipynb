{
 "cells": [
  {
   "cell_type": "markdown",
   "metadata": {},
   "source": [
    "#### There are N different vegetable sellers in a line. A single kilogram each of brinjal, carrot and tomato are available with every seller but at different prices. Geek wants to buy exactly one vegetable from one shop and avoid buying the same vegetables from adjacent shops. \n",
    "### Given the cost of each vegetable in each shop in a Nx3 matrix, calculate the minimum amount of money that Geek must spend in the inspection. "
   ]
  },
  {
   "cell_type": "code",
   "execution_count": 2,
   "metadata": {},
   "outputs": [
    {
     "name": "stdout",
     "output_type": "stream",
     "text": [
      "1\n",
      "3\n",
      "1 50 50 \n",
      "50 50 50 \n",
      "1 50 50\n",
      "52\n"
     ]
    }
   ],
   "source": [
    "t = int(input())\n",
    "while t:\n",
    "    n=int(input())\n",
    "    a=[]\n",
    "    for i in range(n):\n",
    "        tmp=list(map(int,input().split()))\n",
    "        a.append(tmp)\n",
    "    dp=[[0 for i in range(3)]for j in range(n)]\n",
    "    dp[0][0]=a[0][0]\n",
    "    dp[0][1]=a[0][1]\n",
    "    dp[0][2]=a[0][2]\n",
    "    for i in range(1,n):\n",
    "        for j in range(3):\n",
    "            dp[i][j]=min(dp[i-1][(j+1)%3],dp[i-1][(j+2)%3])+a[i][j]\n",
    "    ans=10**9\n",
    "    for i in range(3):\n",
    "        ans=min(ans,dp[n-1][i])\n",
    "    print(ans)\n",
    "    t-=1"
   ]
  }
 ],
 "metadata": {
  "kernelspec": {
   "display_name": "Python 3",
   "language": "python",
   "name": "python3"
  },
  "language_info": {
   "codemirror_mode": {
    "name": "ipython",
    "version": 3
   },
   "file_extension": ".py",
   "mimetype": "text/x-python",
   "name": "python",
   "nbconvert_exporter": "python",
   "pygments_lexer": "ipython3",
   "version": "3.6.10"
  }
 },
 "nbformat": 4,
 "nbformat_minor": 4
}
