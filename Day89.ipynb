{
 "cells": [
  {
   "cell_type": "markdown",
   "metadata": {},
   "source": [
    "### Find the length of the longest common substring."
   ]
  },
  {
   "cell_type": "code",
   "execution_count": 3,
   "metadata": {},
   "outputs": [
    {
     "name": "stdout",
     "output_type": "stream",
     "text": [
      "2\n",
      "6 6\n",
      "ACDGHR\n",
      "ABCDGH\n",
      "4\n",
      "3 4\n",
      "ABC\n",
      "ACBD\n",
      "1\n"
     ]
    }
   ],
   "source": [
    "class Solution:\n",
    "    def longestCommonSubstr(self, S1, S2, n, m):\n",
    "        dp = [[0]*(m+1) for _ in range(n+1)]\n",
    "        ans = 0\n",
    "        for i in range(1, n+1):\n",
    "            for  j in range(1, m+1):\n",
    "                if S1[i-1] == S2[j-1]:\n",
    "                    dp[i][j] = 1 + dp[i-1][j-1]\n",
    "                ans = max(ans, dp[i][j])\n",
    "        return ans\n",
    "    \n",
    "if __name__=='__main__':\n",
    "    t=int(input())\n",
    "    for _ in range(t):\n",
    "        n,m = input().strip().split(\" \")\n",
    "        n,m = int(n), int(m)\n",
    "        S1 = input().strip()\n",
    "        S2 = input().strip()\n",
    "        \n",
    "        \n",
    "        ob=Solution()\n",
    "        print(ob.longestCommonSubstr(S1, S2, n, m))"
   ]
  }
 ],
 "metadata": {
  "kernelspec": {
   "display_name": "Python 3",
   "language": "python",
   "name": "python3"
  },
  "language_info": {
   "codemirror_mode": {
    "name": "ipython",
    "version": 3
   },
   "file_extension": ".py",
   "mimetype": "text/x-python",
   "name": "python",
   "nbconvert_exporter": "python",
   "pygments_lexer": "ipython3",
   "version": "3.6.10"
  }
 },
 "nbformat": 4,
 "nbformat_minor": 4
}
