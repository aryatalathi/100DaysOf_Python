{
 "cells": [
  {
   "cell_type": "markdown",
   "metadata": {},
   "source": [
    "### Given an array arr of size N, the task is to remove or delete the minimum number of elements from the array so that when the remaining elements are placed in the same sequence order form an increasing sorted sequence."
   ]
  },
  {
   "cell_type": "code",
   "execution_count": 1,
   "metadata": {},
   "outputs": [
    {
     "name": "stdout",
     "output_type": "stream",
     "text": [
      "2\n",
      "5\n",
      "5 6 1 7 4\n",
      "2\n",
      "4\n",
      "1 2 1 2\n",
      "2\n"
     ]
    }
   ],
   "source": [
    "class Solution:\n",
    "    def minDeletions(self, arr, n):\n",
    "        maxi = 0\n",
    "        x = [0 for i in range(n)]\n",
    "     \n",
    "        for i in range(n):\n",
    "            x[i] = 1\n",
    "     \n",
    "        for i in range(1, n):\n",
    "            for j in range(i):\n",
    "                if ( arr[i]>arr[j] and x[i]<x[j] + 1):\n",
    "                    x[i] = x[j] + 1\n",
    "     \n",
    "        for i in range(n):\n",
    "            if (maxi<x[i]):\n",
    "                maxi = x[i]\n",
    "     \n",
    "        return (n-maxi)\n",
    "\n",
    "if __name__ == '__main__':\n",
    "    T=int(input())\n",
    "    for i in range(T):\n",
    "        n = int(input())\n",
    "        arr = [int(x) for x in input().split()]\n",
    "        ob = Solution()\n",
    "        ans = ob.minDeletions(arr,n)\n",
    "        print(ans)"
   ]
  }
 ],
 "metadata": {
  "kernelspec": {
   "display_name": "Python 3",
   "language": "python",
   "name": "python3"
  },
  "language_info": {
   "codemirror_mode": {
    "name": "ipython",
    "version": 3
   },
   "file_extension": ".py",
   "mimetype": "text/x-python",
   "name": "python",
   "nbconvert_exporter": "python",
   "pygments_lexer": "ipython3",
   "version": "3.6.10"
  }
 },
 "nbformat": 4,
 "nbformat_minor": 4
}
