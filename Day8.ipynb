{
 "cells": [
  {
   "cell_type": "markdown",
   "metadata": {},
   "source": [
    "### Given a sorted array containing only 0s and 1s, find the transition point. "
   ]
  },
  {
   "cell_type": "code",
   "execution_count": 1,
   "metadata": {},
   "outputs": [
    {
     "name": "stdout",
     "output_type": "stream",
     "text": [
      "1\n",
      "5\n",
      "0 0 0 0 1\n",
      "4\n"
     ]
    }
   ],
   "source": [
    "def transitionPoint(arr, n):\n",
    "    #Code here\n",
    "    x=-1\n",
    "    if 1 in arr:\n",
    "        x=arr.index(1)\n",
    "    return x\n",
    "\n",
    "if __name__=='__main__':\n",
    "    t=int(input())\n",
    "    for i in range(t):\n",
    "        n = int(input())\n",
    "        arr = list(map(int, input().strip().split()))\n",
    "        print(transitionPoint(arr, n))"
   ]
  }
 ],
 "metadata": {
  "kernelspec": {
   "display_name": "Python 3",
   "language": "python",
   "name": "python3"
  },
  "language_info": {
   "codemirror_mode": {
    "name": "ipython",
    "version": 3
   },
   "file_extension": ".py",
   "mimetype": "text/x-python",
   "name": "python",
   "nbconvert_exporter": "python",
   "pygments_lexer": "ipython3",
   "version": "3.6.10"
  }
 },
 "nbformat": 4,
 "nbformat_minor": 4
}
