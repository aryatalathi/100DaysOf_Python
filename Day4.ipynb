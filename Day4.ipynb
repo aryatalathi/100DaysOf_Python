{
 "cells": [
  {
   "cell_type": "markdown",
   "metadata": {},
   "source": [
    "### An analog clock which consists of two hands one for hour and another for minute. Calculate the shorter angle formed between hour and minute hand at any given time."
   ]
  },
  {
   "cell_type": "code",
   "execution_count": 3,
   "metadata": {},
   "outputs": [
    {
     "name": "stdout",
     "output_type": "stream",
     "text": [
      "2\n",
      "5 30\n",
      "15\n",
      "6 00\n",
      "180\n"
     ]
    }
   ],
   "source": [
    "def calcAngle(h,m):\n",
    "        if (h == 12):\n",
    "            h = 0\n",
    "        if (m == 60):\n",
    "            m = 0\n",
    "            h += 1;\n",
    "            if(h>12):\n",
    "                   h = h-12;\n",
    "         \n",
    "        hour_angle = (h * 60 + m)//2\n",
    "        minute_angle = 6 * m\n",
    "        angle = abs(hour_angle - minute_angle)\n",
    "        angle = min(360 - angle, angle)\n",
    "         \n",
    "        return angle\n",
    " \n",
    "t = int(input())\n",
    "for _ in range(t):\n",
    "  h, m = map(int, input().split())\n",
    "  print(calcAngle(h,m))"
   ]
  }
 ],
 "metadata": {
  "kernelspec": {
   "display_name": "Python 3",
   "language": "python",
   "name": "python3"
  },
  "language_info": {
   "codemirror_mode": {
    "name": "ipython",
    "version": 3
   },
   "file_extension": ".py",
   "mimetype": "text/x-python",
   "name": "python",
   "nbconvert_exporter": "python",
   "pygments_lexer": "ipython3",
   "version": "3.6.10"
  }
 },
 "nbformat": 4,
 "nbformat_minor": 4
}
