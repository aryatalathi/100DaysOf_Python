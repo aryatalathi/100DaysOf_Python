{
 "cells": [
  {
   "cell_type": "markdown",
   "metadata": {},
   "source": [
    "### You have N stacks of books. Each stack of books has some non zero height Hi equal to the number of books on that stack ( considering all the books are identical and each book has a height of 1 unit ). In one move, you can select any number of consecutive stacks of books such that the height of each selected stack of books Hi <= K . Once such a sequence of stacks is chosen , You can collect any number of books from the chosen sequence of stacks .\n",
    "### What is the maximum number of books that you can collect this way ?"
   ]
  },
  {
   "cell_type": "code",
   "execution_count": 1,
   "metadata": {},
   "outputs": [
    {
     "name": "stdout",
     "output_type": "stream",
     "text": [
      "2\n",
      "8 1\n",
      "3 2 2 3 1 1 1 3\n",
      "3\n",
      "8 2 \n",
      "3 2 2 3 1 1 1 3\n",
      "4\n"
     ]
    }
   ],
   "source": [
    "class Solution:\n",
    "    def max_Books(self, n, k, a):\n",
    "        maxi = 0\n",
    "        for i in range(n):\n",
    "            sum = 0\n",
    "            while(i<n and a[i]<=k):\n",
    "                sum += a[i]\n",
    "                i+=1\n",
    "            if(maxi<sum):\n",
    "                maxi = sum\n",
    "        return maxi\n",
    "\n",
    "if __name__=='__main__':\n",
    "    t = int(input())\n",
    "    for i in range(t):\n",
    "        temp = list(map(int, input().strip().split()))\n",
    "        n = temp[0]\n",
    "        k = temp[1]\n",
    "        arr = list(map(int, input().strip().split()))\n",
    "        ob=Solution()\n",
    "        print(ob.max_Books(n, k, arr))"
   ]
  }
 ],
 "metadata": {
  "kernelspec": {
   "display_name": "Python 3",
   "language": "python",
   "name": "python3"
  },
  "language_info": {
   "codemirror_mode": {
    "name": "ipython",
    "version": 3
   },
   "file_extension": ".py",
   "mimetype": "text/x-python",
   "name": "python",
   "nbconvert_exporter": "python",
   "pygments_lexer": "ipython3",
   "version": "3.6.10"
  }
 },
 "nbformat": 4,
 "nbformat_minor": 4
}
