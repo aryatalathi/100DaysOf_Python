{
 "cells": [
  {
   "cell_type": "markdown",
   "metadata": {},
   "source": [
    "### Stickler the thief wants to loot money from a society having n houses in a single line. \n",
    "### He is a weird person and follows a certain rule when looting the houses. \n",
    "### According to the rule, he will never loot two consecutive houses. At the same time, he wants to maximize the amount he loots. The thief knows which house has what amount of money but is unable to come up with an optimal looting strategy.\n",
    "### He asks for your help to find the maximum money he can get if he strictly follows the rule. Each house has a[i] amount of money present in it."
   ]
  },
  {
   "cell_type": "code",
   "execution_count": 4,
   "metadata": {},
   "outputs": [
    {
     "name": "stdout",
     "output_type": "stream",
     "text": [
      "1\n",
      "6\n",
      "5 5 10 100 10 5\n",
      "110\n"
     ]
    }
   ],
   "source": [
    "class Solution:  \n",
    "    \n",
    "    def FindMaxSum(self,a, n):\n",
    "        x = 0\n",
    "        y = 0\n",
    "       \n",
    "        for i in a:\n",
    "            m = y if y>x else x\n",
    "           \n",
    "            x = y + i\n",
    "            y = m\n",
    "        \n",
    "        return (y if y>x else x)\n",
    "\n",
    "if __name__ == '__main__':\n",
    "    test_cases = int(input())\n",
    "    for cases in range(test_cases):\n",
    "        n = int(input())\n",
    "        a = list(map(int,input().strip().split()))\n",
    "        ob=Solution()\n",
    "        print(ob.FindMaxSum(a,n))"
   ]
  }
 ],
 "metadata": {
  "kernelspec": {
   "display_name": "Python 3",
   "language": "python",
   "name": "python3"
  },
  "language_info": {
   "codemirror_mode": {
    "name": "ipython",
    "version": 3
   },
   "file_extension": ".py",
   "mimetype": "text/x-python",
   "name": "python",
   "nbconvert_exporter": "python",
   "pygments_lexer": "ipython3",
   "version": "3.6.10"
  }
 },
 "nbformat": 4,
 "nbformat_minor": 4
}
