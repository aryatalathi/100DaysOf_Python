{
 "cells": [
  {
   "cell_type": "markdown",
   "metadata": {},
   "source": [
    "### Given a value N, find the number of ways to make change for N cents, if we have infinite supply of each of S = { S1, S2, .. , SM } valued coins. "
   ]
  },
  {
   "cell_type": "code",
   "execution_count": 1,
   "metadata": {},
   "outputs": [
    {
     "name": "stdout",
     "output_type": "stream",
     "text": [
      "2\n",
      "4 3\n",
      "1 2 3\n",
      "4\n",
      "10 4\n",
      "2 3 5 6\n",
      "5\n"
     ]
    }
   ],
   "source": [
    "class Solution:\n",
    "    def count(self, S, m, n): \n",
    "        dp=[0]*(n+1)\n",
    "        dp[0]=1\n",
    "         \n",
    "        for i in range(m):\n",
    "            for j in range(S[i], n+1):\n",
    "                dp[j]+=dp[j-S[i]]\n",
    "                \n",
    "        return(dp[n]) \n",
    "\n",
    "if __name__ == '__main__': \n",
    "    t = int(input())\n",
    "    for _ in range(t):\n",
    "        n,m = list(map(int, input().strip().split()))\n",
    "        S = list(map(int, input().strip().split()))\n",
    "        ob = Solution()\n",
    "        print(ob.count(S,m,n))"
   ]
  }
 ],
 "metadata": {
  "kernelspec": {
   "display_name": "Python 3",
   "language": "python",
   "name": "python3"
  },
  "language_info": {
   "codemirror_mode": {
    "name": "ipython",
    "version": 3
   },
   "file_extension": ".py",
   "mimetype": "text/x-python",
   "name": "python",
   "nbconvert_exporter": "python",
   "pygments_lexer": "ipython3",
   "version": "3.6.10"
  }
 },
 "nbformat": 4,
 "nbformat_minor": 4
}
