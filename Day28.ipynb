{
 "cells": [
  {
   "cell_type": "markdown",
   "metadata": {},
   "source": [
    "### Bubble Sort"
   ]
  },
  {
   "cell_type": "code",
   "execution_count": 5,
   "metadata": {},
   "outputs": [
    {
     "name": "stdout",
     "output_type": "stream",
     "text": [
      "2\n",
      "4\n",
      "5 2 1 7\n",
      "1 2 5 7 \n",
      "6\n",
      "1 6 3 87 34 22\n",
      "1 3 6 22 34 87 \n"
     ]
    }
   ],
   "source": [
    "import atexit\n",
    "import io\n",
    "import sys\n",
    "\n",
    "def bubble(arr, i, n):\n",
    "    for j in range(0, n - 1 - i):\n",
    "        if (arr[j] > arr[j + 1]):\n",
    "            arr[j], arr[j + 1] = arr[j + 1], arr[j]\n",
    "    return arr   \n",
    "\n",
    "def bubbleSort(arr, n):\n",
    "    for i in range(n-1):\n",
    "        arr = bubble(arr, i, n)\n",
    "    return arr\n",
    "\n",
    "if __name__=='__main__':\n",
    "    t = int(input())\n",
    "    for i in range(t):\n",
    "        n = int(input())\n",
    "        arr = list(map(int, input().strip().split()))\n",
    "        arr = bubbleSort(arr, n)\n",
    "        for i in arr:\n",
    "            print(i,end=' ')\n",
    "        print ('')"
   ]
  }
 ],
 "metadata": {
  "kernelspec": {
   "display_name": "Python 3",
   "language": "python",
   "name": "python3"
  },
  "language_info": {
   "codemirror_mode": {
    "name": "ipython",
    "version": 3
   },
   "file_extension": ".py",
   "mimetype": "text/x-python",
   "name": "python",
   "nbconvert_exporter": "python",
   "pygments_lexer": "ipython3",
   "version": "3.6.10"
  }
 },
 "nbformat": 4,
 "nbformat_minor": 4
}
