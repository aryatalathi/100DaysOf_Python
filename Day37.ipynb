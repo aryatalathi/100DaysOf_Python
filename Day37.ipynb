{
 "cells": [
  {
   "cell_type": "markdown",
   "metadata": {},
   "source": [
    "### Given an array of non-negative integers of size N. Find the maximum possible XOR between two numbers present in the array."
   ]
  },
  {
   "cell_type": "code",
   "execution_count": 1,
   "metadata": {},
   "outputs": [
    {
     "name": "stdout",
     "output_type": "stream",
     "text": [
      "2\n",
      "5\n",
      "25 20 2 8 5\n",
      "28\n",
      "7\n",
      "1 2 3 4 5 6 7\n",
      "7\n"
     ]
    }
   ],
   "source": [
    "class Solution:\n",
    "    def max_xor(self, arr, n):\n",
    "        maxi = 0\n",
    "        \n",
    "        for i in range(n):\n",
    "            for j in range(i+1,n):\n",
    "                maxi = max(maxi,arr[i] ^ arr[j])          \n",
    "        return maxi\n",
    "\n",
    "if __name__ == '__main__':\n",
    "    T=int(input())\n",
    "    for i in range(T):\n",
    "        n = int(input())\n",
    "        arr = list(map(int,input().split()))\n",
    "        ob = Solution();\n",
    "        print(ob.max_xor(arr,n))"
   ]
  }
 ],
 "metadata": {
  "kernelspec": {
   "display_name": "Python 3",
   "language": "python",
   "name": "python3"
  },
  "language_info": {
   "codemirror_mode": {
    "name": "ipython",
    "version": 3
   },
   "file_extension": ".py",
   "mimetype": "text/x-python",
   "name": "python",
   "nbconvert_exporter": "python",
   "pygments_lexer": "ipython3",
   "version": "3.6.10"
  }
 },
 "nbformat": 4,
 "nbformat_minor": 4
}
