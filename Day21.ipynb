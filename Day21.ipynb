{
 "cells": [
  {
   "cell_type": "markdown",
   "metadata": {},
   "source": [
    "### Given two strings X and Y of lengths m and n respectively, find the length of the smallest string which has both, X and Y as its sub-sequences.\n",
    "#### Note: X and Y can have both uppercase and lowercase letters."
   ]
  },
  {
   "cell_type": "code",
   "execution_count": 2,
   "metadata": {},
   "outputs": [
    {
     "name": "stdout",
     "output_type": "stream",
     "text": [
      "2\n",
      "abcd xycd\n",
      "6\n",
      "efgh jghi\n",
      "6\n"
     ]
    }
   ],
   "source": [
    "def shortestCommonSupersequence(X, Y, m, n):\n",
    "    count = lcs(X, Y, m, n)\n",
    "    return (m+n-count)            \n",
    "        \n",
    "def lcs(X, Y, m, n):\n",
    "    L = [[0] * (n + 2) for i in range(m + 2)]\n",
    " \n",
    "    for i in range(m + 1):\n",
    " \n",
    "        for j in range(n + 1):\n",
    " \n",
    "            if (i == 0 or j == 0):\n",
    "                L[i][j] = 0\n",
    " \n",
    "            elif (X[i - 1] == Y[j - 1]):\n",
    "                L[i][j] = L[i - 1][j - 1] + 1\n",
    " \n",
    "            else:\n",
    "                L[i][j] = max(L[i - 1][j],\n",
    "                              L[i][j - 1])\n",
    " \n",
    "    # L[m][n] contains length of\n",
    "    # LCS for X[0..n - 1] and Y[0..m - 1]\n",
    "    return L[m][n]\n",
    "\n",
    "if __name__ == '__main__': \n",
    "    t=int(input())\n",
    "    for tcs in range(t):\n",
    "        X,Y=input().split()\n",
    "        \n",
    "        print(shortestCommonSupersequence(X,Y,len(X),len(Y)))"
   ]
  }
 ],
 "metadata": {
  "kernelspec": {
   "display_name": "Python 3",
   "language": "python",
   "name": "python3"
  },
  "language_info": {
   "codemirror_mode": {
    "name": "ipython",
    "version": 3
   },
   "file_extension": ".py",
   "mimetype": "text/x-python",
   "name": "python",
   "nbconvert_exporter": "python",
   "pygments_lexer": "ipython3",
   "version": "3.6.10"
  }
 },
 "nbformat": 4,
 "nbformat_minor": 4
}
