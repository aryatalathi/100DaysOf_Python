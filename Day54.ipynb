{
 "cells": [
  {
   "cell_type": "markdown",
   "metadata": {},
   "source": [
    "### Given a singly linked list of size N, and an integer K. You need to swap the Kth node from the beginning and Kth node from the end of the linked list. Swap the nodes through the links. Do not change the content of the nodes.\n",
    "#### The generated output will be 1 if you are able to complete your task. "
   ]
  },
  {
   "cell_type": "code",
   "execution_count": null,
   "metadata": {},
   "outputs": [],
   "source": [
    "#Function to swap Kth node from beginning and end in a linked list.\n",
    "def swapkthnode(head,num,k):\n",
    "    # return head of new linked list\n",
    "    #code here\n",
    "    if k>num:\n",
    "        return head\n",
    "    if 2*k-1==num:\n",
    "        return head\n",
    "    x=head\n",
    "    x_pre=Node(None)\n",
    "    for i in range(k-1):\n",
    "        x_pre=x\n",
    "        x=x.next\n",
    "    y=head\n",
    "    y_pre=Node(None)\n",
    "    for i in range(num-k):\n",
    "        y_pre=y\n",
    "        y=y.next\n",
    "    if x_pre is not None:\n",
    "        x_pre.next=y\n",
    "    if y_pre is not None:\n",
    "        y_pre.next=x\n",
    "    temp=x.next\n",
    "    x.next=y.next\n",
    "    y.next=temp\n",
    "    if k==1:\n",
    "        head=y\n",
    "    if k==num:\n",
    "        head=x\n",
    "    return head     "
   ]
  },
  {
   "cell_type": "code",
   "execution_count": null,
   "metadata": {},
   "outputs": [],
   "source": []
  }
 ],
 "metadata": {
  "kernelspec": {
   "display_name": "Python 3",
   "language": "python",
   "name": "python3"
  },
  "language_info": {
   "codemirror_mode": {
    "name": "ipython",
    "version": 3
   },
   "file_extension": ".py",
   "mimetype": "text/x-python",
   "name": "python",
   "nbconvert_exporter": "python",
   "pygments_lexer": "ipython3",
   "version": "3.6.10"
  }
 },
 "nbformat": 4,
 "nbformat_minor": 4
}
