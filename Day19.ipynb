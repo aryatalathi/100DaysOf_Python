{
 "cells": [
  {
   "cell_type": "markdown",
   "metadata": {},
   "source": [
    "### N balls are arranged in a row. The initial color of each ball is represented by string\n",
    "### S of lengthN. The ball is painted black if the ith character of the string is ′B′ and white if the ith character of the string is ′W′\n",
    "### You want to repaint some of the balls black or white so that none of the two adjacent balls having the same color.\n",
    "### Find how many balls you have to repaint to satisfy the above condition"
   ]
  },
  {
   "cell_type": "code",
   "execution_count": 1,
   "metadata": {},
   "outputs": [
    {
     "name": "stdout",
     "output_type": "stream",
     "text": [
      "2\n",
      "WWW\n",
      "1\n",
      "WBWBWB\n",
      "0\n"
     ]
    }
   ],
   "source": [
    "t = int(input())\n",
    "for _ in range(t):\n",
    "    s = input()\n",
    "    count = 0\n",
    "    for i in range(len(s)):\n",
    "        if i%2 == 0:\n",
    "            if s[i]!='W':\n",
    "                count += 1\n",
    "        else:\n",
    "            if s[i]!='B':\n",
    "                count += 1\n",
    "    \n",
    "    print(min(count, len(s)-count))\n",
    "            "
   ]
  }
 ],
 "metadata": {
  "kernelspec": {
   "display_name": "Python 3",
   "language": "python",
   "name": "python3"
  },
  "language_info": {
   "codemirror_mode": {
    "name": "ipython",
    "version": 3
   },
   "file_extension": ".py",
   "mimetype": "text/x-python",
   "name": "python",
   "nbconvert_exporter": "python",
   "pygments_lexer": "ipython3",
   "version": "3.6.10"
  }
 },
 "nbformat": 4,
 "nbformat_minor": 4
}
