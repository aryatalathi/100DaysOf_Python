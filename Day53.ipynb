{
 "cells": [
  {
   "cell_type": "markdown",
   "metadata": {},
   "source": [
    "### Given an unsorted linked list of N nodes. The task is to remove duplicate elements from this unsorted Linked List. When a value appears in multiple nodes, the node which appeared first should be kept, all others duplicates are to be removed."
   ]
  },
  {
   "cell_type": "code",
   "execution_count": null,
   "metadata": {},
   "outputs": [],
   "source": [
    "class Solution:\n",
    "    #Function to remove duplicates from unsorted linked list.\n",
    "    def removeDuplicates(self, head):\n",
    "        elements = {}\n",
    "        next_node = head\n",
    "        prev_node = None\n",
    "        while next_node is not None:\n",
    "            if next_node.data not in elements:\n",
    "                elements[next_node.data] = 1\n",
    "                prev_node = next_node\n",
    "                next_node = next_node.next\n",
    "            else:\n",
    "                prev_node.next = next_node.next\n",
    "                next_node = next_node.next\n",
    "                \n",
    "        return head"
   ]
  }
 ],
 "metadata": {
  "kernelspec": {
   "display_name": "Python 3",
   "language": "python",
   "name": "python3"
  },
  "language_info": {
   "codemirror_mode": {
    "name": "ipython",
    "version": 3
   },
   "file_extension": ".py",
   "mimetype": "text/x-python",
   "name": "python",
   "nbconvert_exporter": "python",
   "pygments_lexer": "ipython3",
   "version": "3.6.10"
  }
 },
 "nbformat": 4,
 "nbformat_minor": 4
}
