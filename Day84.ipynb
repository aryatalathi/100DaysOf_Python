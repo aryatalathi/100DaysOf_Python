{
 "cells": [
  {
   "cell_type": "markdown",
   "metadata": {},
   "source": [
    "### You have a rectangular grid mat of dimension 2 x N. You need to find out the maximum sum such that no two chosen numbers are adjacent, vertically, diagonally or horizontally."
   ]
  },
  {
   "cell_type": "code",
   "execution_count": 1,
   "metadata": {},
   "outputs": [
    {
     "name": "stdout",
     "output_type": "stream",
     "text": [
      "1\n",
      "3\n",
      "1 4 5\n",
      "2 0 0\n",
      "7\n"
     ]
    }
   ],
   "source": [
    "class Solution:\n",
    "    def maxSum(self, N, mat):\n",
    "        a = max(mat[0][0], mat[1][0])\n",
    "        b = 0\n",
    "     \n",
    "        for i in range(1,N):\n",
    "            m = max(b,a)\n",
    "            a = b + max(mat[0][i], mat[1][i])\n",
    "            b = m\n",
    "        \n",
    "        return max(b,a)\n",
    "\n",
    "if __name__ == '__main__':\n",
    "    t = int(input())\n",
    "    for _ in range(t):\n",
    "        N = int(input())\n",
    "        mat = [[0]*N for i in range(2)]\n",
    "        arr = input().split()\n",
    "        arr1 = input().split()\n",
    "        for it in range(N):\n",
    "            mat[0][it] = int(arr[it])\n",
    "        for it in range(N):\n",
    "            mat[1][it] = int(arr1[it])\n",
    "        \n",
    "        ob = Solution()\n",
    "        print(ob.maxSum(N, mat))"
   ]
  }
 ],
 "metadata": {
  "kernelspec": {
   "display_name": "Python 3",
   "language": "python",
   "name": "python3"
  },
  "language_info": {
   "codemirror_mode": {
    "name": "ipython",
    "version": 3
   },
   "file_extension": ".py",
   "mimetype": "text/x-python",
   "name": "python",
   "nbconvert_exporter": "python",
   "pygments_lexer": "ipython3",
   "version": "3.6.10"
  }
 },
 "nbformat": 4,
 "nbformat_minor": 4
}
