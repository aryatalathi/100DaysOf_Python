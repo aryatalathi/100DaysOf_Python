{
 "cells": [
  {
   "cell_type": "markdown",
   "metadata": {},
   "source": [
    "### Given a boolean 2D array of n x m dimensions where each row is sorted. Find the 0-based index of the first row that has the maximum number of 1's."
   ]
  },
  {
   "cell_type": "code",
   "execution_count": 1,
   "metadata": {},
   "outputs": [
    {
     "name": "stdout",
     "output_type": "stream",
     "text": [
      "2\n",
      "4 4\n",
      "0 1 1 1 0 0 1 1 1 1 1 1 0 0 0 0\n",
      "2\n",
      "2 2\n",
      "0 0 1 1\n",
      "1\n"
     ]
    }
   ],
   "source": [
    "class Solution:\n",
    "\n",
    "    def rowWithMax1s(self,arr, n, m):\n",
    "        count = -1;\n",
    "        j = m-1;\n",
    "        for i in range(n):\n",
    "            while(j>=0):\n",
    "                if(arr[i][j]==1):\n",
    "                    j-=1\n",
    "                    count = i\n",
    "                else:\n",
    "                    break\n",
    "        return count\n",
    "\n",
    "if __name__ == '__main__':\n",
    "    tc = int(input())\n",
    "    while tc > 0:\n",
    "        n, m = list(map(int, input().strip().split()))\n",
    "        \n",
    "        inputLine = list(map(int, input().strip().split()))\n",
    "        arr = [[0 for j in range(m)] for i in range(n)]\n",
    "        \n",
    "        for i in range(n):\n",
    "            for j in range(m):\n",
    "                arr[i][j] = inputLine[i * m + j]\n",
    "        ob = Solution()\n",
    "        ans = ob.rowWithMax1s(arr, n, m)\n",
    "        print(ans)\n",
    "        tc -= 1"
   ]
  }
 ],
 "metadata": {
  "kernelspec": {
   "display_name": "Python 3",
   "language": "python",
   "name": "python3"
  },
  "language_info": {
   "codemirror_mode": {
    "name": "ipython",
    "version": 3
   },
   "file_extension": ".py",
   "mimetype": "text/x-python",
   "name": "python",
   "nbconvert_exporter": "python",
   "pygments_lexer": "ipython3",
   "version": "3.6.10"
  }
 },
 "nbformat": 4,
 "nbformat_minor": 4
}
