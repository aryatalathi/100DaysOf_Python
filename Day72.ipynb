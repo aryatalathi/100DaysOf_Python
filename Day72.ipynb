{
 "cells": [
  {
   "cell_type": "code",
   "execution_count": null,
   "metadata": {},
   "outputs": [],
   "source": []
  },
  {
   "cell_type": "code",
   "execution_count": 1,
   "metadata": {},
   "outputs": [
    {
     "name": "stdout",
     "output_type": "stream",
     "text": [
      "2\n",
      "8 \n",
      "1 2 3 4 5 2 3 1\n",
      "5\n",
      "1 3 2 9 10\n",
      "2\n",
      "2\n",
      "2\n",
      "-1\n",
      "-1\n",
      "3\n",
      "2\n",
      "3\n",
      "1\n",
      "-1\n"
     ]
    }
   ],
   "source": [
    "class Solution:\n",
    "    def insert(self, q, k): \n",
    "        q.append(k)\n",
    "\n",
    "    def findFrequency(self, q, k):\n",
    "        f = q.count(k)\n",
    "        return f\n",
    "\n",
    "if __name__ == '__main__': \n",
    "    t = int(input())\n",
    "    for _ in range(t):\n",
    "        obj = Solution()\n",
    "        q = []\n",
    "        n = int(input())\n",
    "        arr = list(map(int, input().strip().split()));\n",
    "        for k in arr:\n",
    "            obj.insert(q,k)\n",
    "        \n",
    "        \n",
    "        m = int(input())\n",
    "        query = list(map(int, input().strip().split()));\n",
    "        for k in query:\n",
    "            f = obj.findFrequency(q,k)\n",
    "            if f!=0:\n",
    "                print(f)\n",
    "            else:\n",
    "                print(-1)"
   ]
  },
  {
   "cell_type": "code",
   "execution_count": null,
   "metadata": {},
   "outputs": [],
   "source": []
  }
 ],
 "metadata": {
  "kernelspec": {
   "display_name": "Python 3",
   "language": "python",
   "name": "python3"
  },
  "language_info": {
   "codemirror_mode": {
    "name": "ipython",
    "version": 3
   },
   "file_extension": ".py",
   "mimetype": "text/x-python",
   "name": "python",
   "nbconvert_exporter": "python",
   "pygments_lexer": "ipython3",
   "version": "3.6.10"
  }
 },
 "nbformat": 4,
 "nbformat_minor": 4
}
