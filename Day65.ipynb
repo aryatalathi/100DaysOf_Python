{
 "cells": [
  {
   "cell_type": "markdown",
   "metadata": {},
   "source": [
    "### Design a data-structure SpecialStack that supports all the stack operations like push(), pop(), isEmpty(), isFull() and an additional operation getMin() which should return minimum element from the SpecialStack"
   ]
  },
  {
   "cell_type": "code",
   "execution_count": 1,
   "metadata": {},
   "outputs": [
    {
     "name": "stdout",
     "output_type": "stream",
     "text": [
      "2\n",
      "5\n",
      "18 19 29 15 16\n",
      "15\n",
      "4\n",
      "18 91 29 3\n",
      "3\n"
     ]
    }
   ],
   "source": [
    "# function should append an element on to the stack\n",
    "def push(arr, ele):\n",
    "    arr.append(ele)\n",
    "\n",
    "# Function should pop an element from stack\n",
    "def pop(arr):\n",
    "    data = arr.top()\n",
    "    arr.pop()\n",
    "    return data\n",
    "\n",
    "# function should return 1/0 or True/False\n",
    "def isFull(n, arr):\n",
    "    if(len(arr)==n):\n",
    "        return True\n",
    "    return False\n",
    "\n",
    "# function should return 1/0 or True/False\n",
    "def isEmpty(arr):\n",
    "    if(len(arr)==0):\n",
    "        return True\n",
    "    return False\n",
    "\n",
    "# function should return minimum element from the stack\n",
    "def getMin(n, arr):\n",
    "    return min(arr)\n",
    "\n",
    "if __name__=='__main__':\n",
    "    t = int(input())\n",
    "    for i in range(t):\n",
    "        n = int(input())\n",
    "        arr = list(map(int, input().strip().split()))\n",
    "        stack = []\n",
    "        while(not isEmpty(stack)):\n",
    "            pop(stack)\n",
    "            \n",
    "        for i in range(n):\n",
    "            push(stack, arr[i])\n",
    "        print(getMin(n, stack))\n"
   ]
  }
 ],
 "metadata": {
  "kernelspec": {
   "display_name": "Python 3",
   "language": "python",
   "name": "python3"
  },
  "language_info": {
   "codemirror_mode": {
    "name": "ipython",
    "version": 3
   },
   "file_extension": ".py",
   "mimetype": "text/x-python",
   "name": "python",
   "nbconvert_exporter": "python",
   "pygments_lexer": "ipython3",
   "version": "3.6.10"
  }
 },
 "nbformat": 4,
 "nbformat_minor": 4
}
