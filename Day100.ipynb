{
 "cells": [
  {
   "cell_type": "markdown",
   "metadata": {},
   "source": [
    "### Egg Dropping Puzzle \n",
    "#### Suppose you have N eggs and you want to determine from which floor in a K-floor building you can drop an egg such that it doesn't break. You have to determine the minimum number of attempts you need in order find the critical floor in the worst case while using the best strategy.There are few rules given below. \n",
    "\n",
    "#### 1.An egg that survives a fall can be used again.\n",
    "#### 2.A broken egg must be discarded.\n",
    "#### 3.The effect of a fall is the same for all eggs.\n",
    "#### 4.If the egg doesn't break at a certain floor, it will not break at any floor below.\n",
    "#### 5.If the eggs breaks at a certain floor, it will break at any floor above."
   ]
  },
  {
   "cell_type": "code",
   "execution_count": 1,
   "metadata": {},
   "outputs": [
    {
     "name": "stdout",
     "output_type": "stream",
     "text": [
      "2\n",
      "2 10\n",
      "4\n",
      "3 5\n",
      "3\n"
     ]
    }
   ],
   "source": [
    "class Solution:\n",
    "    def eggDrop(self,n, k):\n",
    "        INT_MAX = float('inf')\n",
    "        dp = [[0 for x in range(k+1)] for x in range(n+1)] \n",
    "\n",
    "    \n",
    "        for i in range(1, n+1): \n",
    "            dp[i][1] = 1\n",
    "            dp[i][0] = 0\n",
    "\n",
    "        for j in range(1, k+1): \n",
    "            dp[1][j] = j \n",
    "        \n",
    "        for i in range(2, n+1): \n",
    "            for j in range(2, k+1): \n",
    "                dp[i][j] = INT_MAX \n",
    "                \n",
    "                for x in range(1, j+1): \n",
    "                    ans = 1 + max(dp[i-1][x-1], dp[i][j-x]) \n",
    "                    \n",
    "                    if (ans<dp[i][j]): \n",
    "                        dp[i][j] = ans \n",
    "\n",
    "        return dp[n][k]\n",
    "    \n",
    "if __name__ == '__main__':\n",
    "    test_cases = int(input())\n",
    "    for cases in range(test_cases):\n",
    "        n,k = map(int,input().strip().split())\n",
    "        ob=Solution()\n",
    "        print(ob.eggDrop(n,k))"
   ]
  }
 ],
 "metadata": {
  "kernelspec": {
   "display_name": "Python 3",
   "language": "python",
   "name": "python3"
  },
  "language_info": {
   "codemirror_mode": {
    "name": "ipython",
    "version": 3
   },
   "file_extension": ".py",
   "mimetype": "text/x-python",
   "name": "python",
   "nbconvert_exporter": "python",
   "pygments_lexer": "ipython3",
   "version": "3.6.10"
  }
 },
 "nbformat": 4,
 "nbformat_minor": 4
}
