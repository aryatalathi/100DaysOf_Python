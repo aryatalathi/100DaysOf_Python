{
 "cells": [
  {
   "cell_type": "markdown",
   "metadata": {},
   "source": [
    "### Maximum Intervals Overlap \n",
    "#### Consider a big party where N guests came to it and a log register for guest’s entry and exit times was maintained. Find the minimum time at which there were maximum guests at the party. Note that entries in the register are not in any order."
   ]
  },
  {
   "cell_type": "code",
   "execution_count": 3,
   "metadata": {},
   "outputs": [
    {
     "name": "stdout",
     "output_type": "stream",
     "text": [
      "7\n",
      "13 28 29 14 40 17 3\n",
      "107 95 111 105 70 127 74\n",
      "7 40\n"
     ]
    }
   ],
   "source": [
    "n = int(input())\n",
    "s = list(map(int,input().split()))\n",
    "e = list(map(int,input().split()))\n",
    "a = []\n",
    "    \n",
    "for i in s:\n",
    "    a.append([i,\"s\"])\n",
    "    \n",
    "for i in e:\n",
    "    a.append([i,\"e\"])\n",
    "        \n",
    "a.sort(key = lambda i: i[0])\n",
    "    \n",
    "ans = 0\n",
    "count = 0\n",
    "time = 0\n",
    "for i in a:\n",
    "    if i[1]==\"s\":\n",
    "        count += 1\n",
    "    else:\n",
    "        count -= 1\n",
    "        \n",
    "    if count>ans:\n",
    "        ans = count\n",
    "        time = i[0]\n",
    "            \n",
    "print(ans,time)"
   ]
  }
 ],
 "metadata": {
  "kernelspec": {
   "display_name": "Python 3",
   "language": "python",
   "name": "python3"
  },
  "language_info": {
   "codemirror_mode": {
    "name": "ipython",
    "version": 3
   },
   "file_extension": ".py",
   "mimetype": "text/x-python",
   "name": "python",
   "nbconvert_exporter": "python",
   "pygments_lexer": "ipython3",
   "version": "3.6.10"
  }
 },
 "nbformat": 4,
 "nbformat_minor": 4
}
