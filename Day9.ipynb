{
 "cells": [
  {
   "cell_type": "markdown",
   "metadata": {},
   "source": [
    "### Given an array consisting of N integers. \n",
    "### Find the maximum length of an increasing subarray of the given array.\n",
    "\n",
    "##### A subarray is the sequence of consecutive elements of the array. Subarray is called increasing if each element of this subarray is strictly greater than the previous element."
   ]
  },
  {
   "cell_type": "code",
   "execution_count": 2,
   "metadata": {},
   "outputs": [
    {
     "name": "stdout",
     "output_type": "stream",
     "text": [
      "6\n",
      "2 12 17 3 9 4\n",
      "  3\n"
     ]
    }
   ],
   "source": [
    "def fun(arr, n) : \n",
    "  m = 1 \n",
    "  l = 1 \n",
    "  for i in range(1, n) : \n",
    "    if (arr[i] > arr[i-1]) : \n",
    "      l =l + 1 \n",
    "    else : \n",
    "      if (m < l)  : \n",
    "        m = l  \n",
    "      l = 1 \n",
    "  if (m < l) : \n",
    "    m = l \n",
    "    \n",
    "  return m \n",
    "\n",
    "n = int(input())  \n",
    "arr = list(map(int, input().split()))\n",
    "n = len(arr) \n",
    "print(\" \", fun(arr, n)) \n",
    "  "
   ]
  }
 ],
 "metadata": {
  "kernelspec": {
   "display_name": "Python 3",
   "language": "python",
   "name": "python3"
  },
  "language_info": {
   "codemirror_mode": {
    "name": "ipython",
    "version": 3
   },
   "file_extension": ".py",
   "mimetype": "text/x-python",
   "name": "python",
   "nbconvert_exporter": "python",
   "pygments_lexer": "ipython3",
   "version": "3.6.10"
  }
 },
 "nbformat": 4,
 "nbformat_minor": 4
}
