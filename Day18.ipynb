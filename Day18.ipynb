{
 "cells": [
  {
   "cell_type": "markdown",
   "metadata": {},
   "source": [
    "### Given a string s consisting only lower case alphabets, find the minimum number of changes required to it so that all substrings of the string become distinct.\n",
    "### Note: length of the string is at most 26."
   ]
  },
  {
   "cell_type": "code",
   "execution_count": 4,
   "metadata": {},
   "outputs": [
    {
     "name": "stdout",
     "output_type": "stream",
     "text": [
      "2\n",
      "aab\n",
      "1\n",
      "ab\n",
      "0\n"
     ]
    }
   ],
   "source": [
    "\n",
    "class Solution:\n",
    "    def minChange(self,S):\n",
    "        # Code here\n",
    "        a1 = str()\n",
    "        count = 0\n",
    "        for i in range(len(S)):\n",
    "            if S[i] in a1:\n",
    "                count = count + 1\n",
    "            else:\n",
    "                a1 = a1 + S[i]\n",
    "        return(count)\n",
    "    \n",
    "if __name__ == '__main__': \n",
    "    t = int (input ())\n",
    "    for _ in range (t):\n",
    "        \n",
    "        S = input()\n",
    "        \n",
    "        ob = Solution()\n",
    "        print(ob.minChange(S))"
   ]
  }
 ],
 "metadata": {
  "kernelspec": {
   "display_name": "Python 3",
   "language": "python",
   "name": "python3"
  },
  "language_info": {
   "codemirror_mode": {
    "name": "ipython",
    "version": 3
   },
   "file_extension": ".py",
   "mimetype": "text/x-python",
   "name": "python",
   "nbconvert_exporter": "python",
   "pygments_lexer": "ipython3",
   "version": "3.6.10"
  }
 },
 "nbformat": 4,
 "nbformat_minor": 4
}
