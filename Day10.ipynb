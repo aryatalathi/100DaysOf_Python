{
 "cells": [
  {
   "cell_type": "markdown",
   "metadata": {},
   "source": [
    "### Given an array arr[] of N non-negative integers representing the height of blocks. If width of each block is 1, compute how much water can be trapped between the blocks during the rainy season.  "
   ]
  },
  {
   "cell_type": "code",
   "execution_count": 2,
   "metadata": {},
   "outputs": [
    {
     "name": "stdout",
     "output_type": "stream",
     "text": [
      "2\n",
      "4\n",
      "7 4 0 9\n",
      "10\n",
      "5\n",
      "8 3 7 9 1\n",
      "6\n"
     ]
    }
   ],
   "source": [
    "import math\n",
    "\n",
    "def trappingWater(arr,n):\n",
    "\n",
    "    res = 0\n",
    "    left_max = 0\n",
    "    right_max = 0\n",
    "    left = 0\n",
    "    right = n - 1\n",
    "    while left <= right:\n",
    "        if arr[left] <= arr[right]:\n",
    "            if left_max < arr[left]:\n",
    "                left_max = arr[left]\n",
    "            else:\n",
    "                res += left_max - arr[left]\n",
    "            left += 1\n",
    "        else:\n",
    "            if right_max < arr[right]:\n",
    "                right_max = arr[right]\n",
    "            else:\n",
    "                res += right_max - arr[right]\n",
    "            right -= 1\n",
    "    return res\n",
    "\n",
    "def main():\n",
    "        T=int(input())\n",
    "        while(T>0):\n",
    "            \n",
    "            n=int(input())\n",
    "            \n",
    "            arr=[int(x) for x in input().strip().split()]\n",
    "            print(trappingWater(arr,n))\n",
    "            \n",
    "            \n",
    "            T-=1\n",
    "\n",
    "\n",
    "if __name__ == \"__main__\":\n",
    "    main()"
   ]
  }
 ],
 "metadata": {
  "kernelspec": {
   "display_name": "Python 3",
   "language": "python",
   "name": "python3"
  },
  "language_info": {
   "codemirror_mode": {
    "name": "ipython",
    "version": 3
   },
   "file_extension": ".py",
   "mimetype": "text/x-python",
   "name": "python",
   "nbconvert_exporter": "python",
   "pygments_lexer": "ipython3",
   "version": "3.6.10"
  }
 },
 "nbformat": 4,
 "nbformat_minor": 4
}
