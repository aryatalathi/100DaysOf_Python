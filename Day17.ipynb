{
 "cells": [
  {
   "cell_type": "markdown",
   "metadata": {},
   "source": [
    "### Given a string without spaces, the task is to remove duplicates from it.\n",
    "\n",
    "### The original order of characters must be kept the same. "
   ]
  },
  {
   "cell_type": "code",
   "execution_count": 1,
   "metadata": {},
   "outputs": [
    {
     "name": "stdout",
     "output_type": "stream",
     "text": [
      "1\n",
      "arya\n",
      "ary\n"
     ]
    }
   ],
   "source": [
    "class Solution:\n",
    "    def removeDups(self, S):\n",
    "        # code here\n",
    "        S1=str()\n",
    "        for i in range(len(S)):\n",
    "            if S[i] not in S1:\n",
    "                S1 = S1 + S[i]\n",
    "        return S1\n",
    "\n",
    "if __name__ == '__main__':\n",
    "    T=int(input())\n",
    "    for i in range(T):\n",
    "        s = input()\n",
    "        \n",
    "        ob = Solution()    \n",
    "        answer = ob.removeDups(s)\n",
    "        \n",
    "        print(answer)"
   ]
  }
 ],
 "metadata": {
  "kernelspec": {
   "display_name": "Python 3",
   "language": "python",
   "name": "python3"
  },
  "language_info": {
   "codemirror_mode": {
    "name": "ipython",
    "version": 3
   },
   "file_extension": ".py",
   "mimetype": "text/x-python",
   "name": "python",
   "nbconvert_exporter": "python",
   "pygments_lexer": "ipython3",
   "version": "3.6.10"
  }
 },
 "nbformat": 4,
 "nbformat_minor": 4
}
