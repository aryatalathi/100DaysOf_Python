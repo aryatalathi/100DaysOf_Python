{
 "cells": [
  {
   "cell_type": "markdown",
   "metadata": {},
   "source": [
    "### Given a singly linked list of size N of integers. The task is to check if the given linked list is palindrome or not."
   ]
  },
  {
   "cell_type": "code",
   "execution_count": 1,
   "metadata": {},
   "outputs": [
    {
     "name": "stdout",
     "output_type": "stream",
     "text": [
      "2\n",
      "4\n",
      "1 2 2 1\n",
      "1\n",
      "5\n",
      "1 2 3 3 2 \n",
      "0\n"
     ]
    }
   ],
   "source": [
    "class Solution:\n",
    "    def isPalindrome(self, head):\n",
    "        l = []\n",
    "        temp = head\n",
    "        while(temp!=None):\n",
    "            l.append(temp.data)\n",
    "            temp = temp.next\n",
    "        if l==l[::-1]:\n",
    "            return 1\n",
    "        else:\n",
    "            return 0\n",
    "        \n",
    "import atexit\n",
    "import io\n",
    "import sys\n",
    "\n",
    "class Node:\n",
    "    def __init__(self, data):   # data -> value stored in node\n",
    "        self.data = data\n",
    "        self.next = None\n",
    "\n",
    "class LinkedList:\n",
    "    def __init__(self):\n",
    "        self.head = None\n",
    "        self.tail = None\n",
    "\n",
    "    # creates a new node with given value and appends it at the end of the linked list\n",
    "    def append(self, new_value):\n",
    "        new_node = Node(new_value)\n",
    "        if self.head is None:\n",
    "            self.head = new_node\n",
    "            self.tail = new_node\n",
    "            return\n",
    "        self.tail.next = new_node\n",
    "        self.tail = new_node \n",
    "\n",
    "if __name__ == '__main__':\n",
    "    t=int(input())\n",
    "    for cases in range(t):\n",
    "        n = int(input())\n",
    "        a = LinkedList() # create a new linked list 'a'.\n",
    "        nodes_a = list(map(int, input().strip().split()))\n",
    "        for x in nodes_a:\n",
    "            a.append(x)  # add to the end of the list\n",
    "\n",
    "        if Solution().isPalindrome(a.head):\n",
    "            print(1)\n",
    "        else:\n",
    "            print(0)"
   ]
  }
 ],
 "metadata": {
  "kernelspec": {
   "display_name": "Python 3",
   "language": "python",
   "name": "python3"
  },
  "language_info": {
   "codemirror_mode": {
    "name": "ipython",
    "version": 3
   },
   "file_extension": ".py",
   "mimetype": "text/x-python",
   "name": "python",
   "nbconvert_exporter": "python",
   "pygments_lexer": "ipython3",
   "version": "3.6.10"
  }
 },
 "nbformat": 4,
 "nbformat_minor": 4
}
