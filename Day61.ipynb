{
 "cells": [
  {
   "cell_type": "markdown",
   "metadata": {},
   "source": [
    "### given an array A of size N. You need to first push the elements of the array into a stack and then print minimum in the stack at each pop."
   ]
  },
  {
   "cell_type": "code",
   "execution_count": null,
   "metadata": {},
   "outputs": [],
   "source": [
    "\n",
    "#Function to push all the elements into the stack.\n",
    "def _push(a,n):\n",
    "    stack=list()\n",
    "    stack.append(a[0])\n",
    "    \n",
    "    for i in range(1,n):\n",
    "        if(stack[-1]>a[i]):\n",
    "            stack.append(a[i])\n",
    "        else:\n",
    "            stack.append(stack[-1])\n",
    "    return stack\n",
    "\n",
    "\n",
    "#Function to print minimum value in stack each time while popping.    \n",
    "def _getMinAtPop(stack):\n",
    "    while(len(stack)!=0):\n",
    "        print(stack.pop(),end=' ')\n",
    "\n",
    "import atexit\n",
    "import io\n",
    "import sys\n",
    "\n",
    "_INPUT_LINES = sys.stdin.read().splitlines()\n",
    "input = iter(_INPUT_LINES).__next__\n",
    "_OUTPUT_BUFFER = io.StringIO()\n",
    "sys.stdout = _OUTPUT_BUFFER\n",
    "\n",
    "@atexit.register\n",
    "\n",
    "def write():\n",
    "    sys.__stdout__.write(_OUTPUT_BUFFER.getvalue())\n",
    "\n",
    "if __name__ == '__main__':\n",
    "    test_cases = int(input())\n",
    "    for cases in range(test_cases) :\n",
    "        n = int(input())\n",
    "        a = list(map(int,input().strip().split()))\n",
    "        stack =  _push(a,n) # our stack to be used\n",
    "        _getMinAtPop(stack) # print elements of stack as required"
   ]
  },
  {
   "cell_type": "code",
   "execution_count": null,
   "metadata": {},
   "outputs": [],
   "source": []
  }
 ],
 "metadata": {
  "kernelspec": {
   "display_name": "Python 3",
   "language": "python",
   "name": "python3"
  },
  "language_info": {
   "codemirror_mode": {
    "name": "ipython",
    "version": 3
   },
   "file_extension": ".py",
   "mimetype": "text/x-python",
   "name": "python",
   "nbconvert_exporter": "python",
   "pygments_lexer": "ipython3",
   "version": "3.6.10"
  }
 },
 "nbformat": 4,
 "nbformat_minor": 4
}
